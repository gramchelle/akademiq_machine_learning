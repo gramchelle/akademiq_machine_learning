{
  "cells": [
    {
      "cell_type": "markdown",
      "metadata": {
        "id": "RzfmdoMpIMRB"
      },
      "source": [
        "### 📌 **Machine Learning Model Performance Analysis Assignment**\n",
        "\n",
        "#### 🎯 **Objective**  \n",
        "The aim of this assignment is to **experiment with the step-by-step development of machine learning models** and to **observe the impact of various techniques on model performance**.\n",
        "\n",
        "- For regression tasks: Housedata (Istanbul house price prediction)\n",
        "\n",
        "---\n",
        "\n",
        "### 🏠 **Dataset Description**\n",
        "\n",
        "The dataset used in this assignment contains detailed real estate listings from **Istanbul, Turkey**. It includes a wide range of features related to residential properties, such as physical characteristics of the house, legal statuses, listing details, and financial eligibility indicators.\n",
        "\n",
        "#### 📊 Key Attributes:\n",
        "\n",
        "| Column Name                | Description |\n",
        "|---------------------------|-------------|\n",
        "| `district`                | The district (neighborhood) of the property |\n",
        "| `price`                   | The listed price of the property (target variable) |\n",
        "| `GrossSquareMeters`       | Total gross area of the property in square meters |\n",
        "| `NetSquareMeters`         | Usable (net) area of the property in square meters |\n",
        "| `NumberOfRooms`           | Number of rooms (e.g., 2+1, 3+1) |\n",
        "| `BuildingAge`             | Age of the building |\n",
        "| `FloorLocation`           | Floor on which the apartment is located |\n",
        "| `NumberFloorsofBuilding`  | Total number of floors in the building |\n",
        "| `HeatingType`             | Type of heating system (e.g., central, combi) |\n",
        "| `CreditEligibility`       | Whether the property is eligible for mortgage loans |\n",
        "| `InsideTheSite`           | Indicates whether the property is inside a residential complex |\n",
        "| `UsingStatus`             | Current usage status (e.g., owner-occupied, tenant) |\n",
        "| `EligibilityForInvestment`| Whether the property is considered suitable for investment |\n",
        "| `AdCreationDate`          | Date the listing was created |\n",
        "| `AdUpdateDate`            | Date the listing was last updated |\n",
        "| `RentalIncome`            | Estimated rental income, if provided |\n",
        "| `Balcony`, `NumberOfBalconies`, `BalconyType` | Balcony-related features |\n",
        "| `StructureType`, `BuildStatus`, `TitleStatus`, `MortgageStatus`, `Swap` | Legal and structural attributes |\n",
        "| ...and many others.\n",
        "\n",
        "> Note: Some features contain a high proportion of missing values and may require preprocessing before being used in modeling.\n",
        "\n",
        "---\n",
        "\n",
        "This dataset enables a comprehensive exploration of **regression modeling** with **real-world property data**, allowing for meaningful performance comparisons among different machine learning approaches.\n"
      ]
    },
    {
      "cell_type": "markdown",
      "metadata": {
        "id": "AKKO_ztkK1xd"
      },
      "source": [
        "### ✅ **1. Data Preprocessing**\n",
        "\n",
        "- **Explore the dataset**:\n",
        "  - Are there any missing values?  \n",
        "  - What is the distribution of the features?  \n",
        "  - How is the target variable distributed?  \n",
        "  - Should outlier analysis be performed?\n",
        "\n",
        "---"
      ]
    },
    {
      "cell_type": "code",
      "execution_count": 406,
      "metadata": {
        "colab": {
          "base_uri": "https://localhost:8080/"
        },
        "id": "wSRl3Yy4I2N4",
        "outputId": "8b7816f2-b766-4193-a107-f038c9f75490"
      },
      "outputs": [
        {
          "output_type": "stream",
          "name": "stdout",
          "text": [
            "Drive already mounted at /content/drive/; to attempt to forcibly remount, call drive.mount(\"/content/drive/\", force_remount=True).\n"
          ]
        }
      ],
      "source": [
        "from google.colab import drive\n",
        "\n",
        "drive.mount(\"/content/drive/\")"
      ]
    },
    {
      "cell_type": "code",
      "execution_count": 407,
      "metadata": {
        "id": "c7zLCqrDJeLA"
      },
      "outputs": [],
      "source": [
        "import pandas as pd\n",
        "import numpy as np\n",
        "\n",
        "df = pd.read_csv(\"/content/drive/MyDrive/knn/HouseData.csv\")"
      ]
    },
    {
      "cell_type": "code",
      "execution_count": 408,
      "metadata": {
        "colab": {
          "base_uri": "https://localhost:8080/",
          "height": 431
        },
        "id": "GawB013vKBsa",
        "outputId": "56fa1766-12a4-4b9e-c2a4-36ce0bd1e8a0"
      },
      "outputs": [
        {
          "output_type": "display_data",
          "data": {
            "text/plain": [
              "   Unnamed: 0 district        price  \\\n",
              "0           0   adalar  3,100,000TL   \n",
              "\n",
              "                                             address   AdUpdateDate Category  \\\n",
              "0  ['Anasayfa', 'Satılık Daire', 'İstanbul Satılı...  24 Şubat 2022  Satılık   \n",
              "\n",
              "  GrossSquareMeters  BuildingAge  NumberFloorsofBuilding  \\\n",
              "0            160 m2  21 Ve Üzeri                       3   \n",
              "\n",
              "            UsingStatus  ...  PriceStatus RentalIncome NumberOfBalconies  \\\n",
              "0  Mülk Sahibi Oturuyor  ...  Genel Fiyat          NaN               NaN   \n",
              "\n",
              "  BalconyType HallSquareMeters WCSquareMeters IsItVideoNavigable?  \\\n",
              "0         NaN              NaN            NaN                 NaN   \n",
              "\n",
              "  Subscription BathroomSquareMeters BalconySquareMeters  \n",
              "0          NaN                  NaN                 NaN  \n",
              "\n",
              "[1 rows x 38 columns]"
            ],
            "text/html": [
              "\n",
              "  <div id=\"df-61ae443b-a000-4c57-adbe-3cde325fba4f\" class=\"colab-df-container\">\n",
              "    <div>\n",
              "<style scoped>\n",
              "    .dataframe tbody tr th:only-of-type {\n",
              "        vertical-align: middle;\n",
              "    }\n",
              "\n",
              "    .dataframe tbody tr th {\n",
              "        vertical-align: top;\n",
              "    }\n",
              "\n",
              "    .dataframe thead th {\n",
              "        text-align: right;\n",
              "    }\n",
              "</style>\n",
              "<table border=\"1\" class=\"dataframe\">\n",
              "  <thead>\n",
              "    <tr style=\"text-align: right;\">\n",
              "      <th></th>\n",
              "      <th>Unnamed: 0</th>\n",
              "      <th>district</th>\n",
              "      <th>price</th>\n",
              "      <th>address</th>\n",
              "      <th>AdUpdateDate</th>\n",
              "      <th>Category</th>\n",
              "      <th>GrossSquareMeters</th>\n",
              "      <th>BuildingAge</th>\n",
              "      <th>NumberFloorsofBuilding</th>\n",
              "      <th>UsingStatus</th>\n",
              "      <th>...</th>\n",
              "      <th>PriceStatus</th>\n",
              "      <th>RentalIncome</th>\n",
              "      <th>NumberOfBalconies</th>\n",
              "      <th>BalconyType</th>\n",
              "      <th>HallSquareMeters</th>\n",
              "      <th>WCSquareMeters</th>\n",
              "      <th>IsItVideoNavigable?</th>\n",
              "      <th>Subscription</th>\n",
              "      <th>BathroomSquareMeters</th>\n",
              "      <th>BalconySquareMeters</th>\n",
              "    </tr>\n",
              "  </thead>\n",
              "  <tbody>\n",
              "    <tr>\n",
              "      <th>0</th>\n",
              "      <td>0</td>\n",
              "      <td>adalar</td>\n",
              "      <td>3,100,000TL</td>\n",
              "      <td>['Anasayfa', 'Satılık Daire', 'İstanbul Satılı...</td>\n",
              "      <td>24 Şubat 2022</td>\n",
              "      <td>Satılık</td>\n",
              "      <td>160 m2</td>\n",
              "      <td>21 Ve Üzeri</td>\n",
              "      <td>3</td>\n",
              "      <td>Mülk Sahibi Oturuyor</td>\n",
              "      <td>...</td>\n",
              "      <td>Genel Fiyat</td>\n",
              "      <td>NaN</td>\n",
              "      <td>NaN</td>\n",
              "      <td>NaN</td>\n",
              "      <td>NaN</td>\n",
              "      <td>NaN</td>\n",
              "      <td>NaN</td>\n",
              "      <td>NaN</td>\n",
              "      <td>NaN</td>\n",
              "      <td>NaN</td>\n",
              "    </tr>\n",
              "  </tbody>\n",
              "</table>\n",
              "<p>1 rows × 38 columns</p>\n",
              "</div>\n",
              "    <div class=\"colab-df-buttons\">\n",
              "\n",
              "  <div class=\"colab-df-container\">\n",
              "    <button class=\"colab-df-convert\" onclick=\"convertToInteractive('df-61ae443b-a000-4c57-adbe-3cde325fba4f')\"\n",
              "            title=\"Convert this dataframe to an interactive table.\"\n",
              "            style=\"display:none;\">\n",
              "\n",
              "  <svg xmlns=\"http://www.w3.org/2000/svg\" height=\"24px\" viewBox=\"0 -960 960 960\">\n",
              "    <path d=\"M120-120v-720h720v720H120Zm60-500h600v-160H180v160Zm220 220h160v-160H400v160Zm0 220h160v-160H400v160ZM180-400h160v-160H180v160Zm440 0h160v-160H620v160ZM180-180h160v-160H180v160Zm440 0h160v-160H620v160Z\"/>\n",
              "  </svg>\n",
              "    </button>\n",
              "\n",
              "  <style>\n",
              "    .colab-df-container {\n",
              "      display:flex;\n",
              "      gap: 12px;\n",
              "    }\n",
              "\n",
              "    .colab-df-convert {\n",
              "      background-color: #E8F0FE;\n",
              "      border: none;\n",
              "      border-radius: 50%;\n",
              "      cursor: pointer;\n",
              "      display: none;\n",
              "      fill: #1967D2;\n",
              "      height: 32px;\n",
              "      padding: 0 0 0 0;\n",
              "      width: 32px;\n",
              "    }\n",
              "\n",
              "    .colab-df-convert:hover {\n",
              "      background-color: #E2EBFA;\n",
              "      box-shadow: 0px 1px 2px rgba(60, 64, 67, 0.3), 0px 1px 3px 1px rgba(60, 64, 67, 0.15);\n",
              "      fill: #174EA6;\n",
              "    }\n",
              "\n",
              "    .colab-df-buttons div {\n",
              "      margin-bottom: 4px;\n",
              "    }\n",
              "\n",
              "    [theme=dark] .colab-df-convert {\n",
              "      background-color: #3B4455;\n",
              "      fill: #D2E3FC;\n",
              "    }\n",
              "\n",
              "    [theme=dark] .colab-df-convert:hover {\n",
              "      background-color: #434B5C;\n",
              "      box-shadow: 0px 1px 3px 1px rgba(0, 0, 0, 0.15);\n",
              "      filter: drop-shadow(0px 1px 2px rgba(0, 0, 0, 0.3));\n",
              "      fill: #FFFFFF;\n",
              "    }\n",
              "  </style>\n",
              "\n",
              "    <script>\n",
              "      const buttonEl =\n",
              "        document.querySelector('#df-61ae443b-a000-4c57-adbe-3cde325fba4f button.colab-df-convert');\n",
              "      buttonEl.style.display =\n",
              "        google.colab.kernel.accessAllowed ? 'block' : 'none';\n",
              "\n",
              "      async function convertToInteractive(key) {\n",
              "        const element = document.querySelector('#df-61ae443b-a000-4c57-adbe-3cde325fba4f');\n",
              "        const dataTable =\n",
              "          await google.colab.kernel.invokeFunction('convertToInteractive',\n",
              "                                                    [key], {});\n",
              "        if (!dataTable) return;\n",
              "\n",
              "        const docLinkHtml = 'Like what you see? Visit the ' +\n",
              "          '<a target=\"_blank\" href=https://colab.research.google.com/notebooks/data_table.ipynb>data table notebook</a>'\n",
              "          + ' to learn more about interactive tables.';\n",
              "        element.innerHTML = '';\n",
              "        dataTable['output_type'] = 'display_data';\n",
              "        await google.colab.output.renderOutput(dataTable, element);\n",
              "        const docLink = document.createElement('div');\n",
              "        docLink.innerHTML = docLinkHtml;\n",
              "        element.appendChild(docLink);\n",
              "      }\n",
              "    </script>\n",
              "  </div>\n",
              "\n",
              "\n",
              "    </div>\n",
              "  </div>\n"
            ],
            "application/vnd.google.colaboratory.intrinsic+json": {
              "type": "dataframe"
            }
          },
          "metadata": {}
        },
        {
          "output_type": "stream",
          "name": "stdout",
          "text": [
            "\n",
            "\n"
          ]
        },
        {
          "output_type": "display_data",
          "data": {
            "text/plain": [
              "       Unnamed: 0     district        price  \\\n",
              "25154       25154  zeytinburnu  1,000,000TL   \n",
              "\n",
              "                                                 address    AdUpdateDate  \\\n",
              "25154  ['Anasayfa', 'Satılık Daire', 'İstanbul Satılı...  10 Aralık 2021   \n",
              "\n",
              "      Category GrossSquareMeters BuildingAge  NumberFloorsofBuilding  \\\n",
              "25154  Satılık             55 m2    0 (Yeni)                      16   \n",
              "\n",
              "      UsingStatus  ...  PriceStatus RentalIncome NumberOfBalconies  \\\n",
              "25154         Boş  ...  Genel Fiyat          NaN               NaN   \n",
              "\n",
              "      BalconyType HallSquareMeters WCSquareMeters IsItVideoNavigable?  \\\n",
              "25154         NaN              NaN            NaN                 NaN   \n",
              "\n",
              "      Subscription BathroomSquareMeters BalconySquareMeters  \n",
              "25154          NaN                  NaN                 NaN  \n",
              "\n",
              "[1 rows x 38 columns]"
            ],
            "text/html": [
              "\n",
              "  <div id=\"df-a6204661-da86-4eb1-99ca-889ea3af2eb8\" class=\"colab-df-container\">\n",
              "    <div>\n",
              "<style scoped>\n",
              "    .dataframe tbody tr th:only-of-type {\n",
              "        vertical-align: middle;\n",
              "    }\n",
              "\n",
              "    .dataframe tbody tr th {\n",
              "        vertical-align: top;\n",
              "    }\n",
              "\n",
              "    .dataframe thead th {\n",
              "        text-align: right;\n",
              "    }\n",
              "</style>\n",
              "<table border=\"1\" class=\"dataframe\">\n",
              "  <thead>\n",
              "    <tr style=\"text-align: right;\">\n",
              "      <th></th>\n",
              "      <th>Unnamed: 0</th>\n",
              "      <th>district</th>\n",
              "      <th>price</th>\n",
              "      <th>address</th>\n",
              "      <th>AdUpdateDate</th>\n",
              "      <th>Category</th>\n",
              "      <th>GrossSquareMeters</th>\n",
              "      <th>BuildingAge</th>\n",
              "      <th>NumberFloorsofBuilding</th>\n",
              "      <th>UsingStatus</th>\n",
              "      <th>...</th>\n",
              "      <th>PriceStatus</th>\n",
              "      <th>RentalIncome</th>\n",
              "      <th>NumberOfBalconies</th>\n",
              "      <th>BalconyType</th>\n",
              "      <th>HallSquareMeters</th>\n",
              "      <th>WCSquareMeters</th>\n",
              "      <th>IsItVideoNavigable?</th>\n",
              "      <th>Subscription</th>\n",
              "      <th>BathroomSquareMeters</th>\n",
              "      <th>BalconySquareMeters</th>\n",
              "    </tr>\n",
              "  </thead>\n",
              "  <tbody>\n",
              "    <tr>\n",
              "      <th>25154</th>\n",
              "      <td>25154</td>\n",
              "      <td>zeytinburnu</td>\n",
              "      <td>1,000,000TL</td>\n",
              "      <td>['Anasayfa', 'Satılık Daire', 'İstanbul Satılı...</td>\n",
              "      <td>10 Aralık 2021</td>\n",
              "      <td>Satılık</td>\n",
              "      <td>55 m2</td>\n",
              "      <td>0 (Yeni)</td>\n",
              "      <td>16</td>\n",
              "      <td>Boş</td>\n",
              "      <td>...</td>\n",
              "      <td>Genel Fiyat</td>\n",
              "      <td>NaN</td>\n",
              "      <td>NaN</td>\n",
              "      <td>NaN</td>\n",
              "      <td>NaN</td>\n",
              "      <td>NaN</td>\n",
              "      <td>NaN</td>\n",
              "      <td>NaN</td>\n",
              "      <td>NaN</td>\n",
              "      <td>NaN</td>\n",
              "    </tr>\n",
              "  </tbody>\n",
              "</table>\n",
              "<p>1 rows × 38 columns</p>\n",
              "</div>\n",
              "    <div class=\"colab-df-buttons\">\n",
              "\n",
              "  <div class=\"colab-df-container\">\n",
              "    <button class=\"colab-df-convert\" onclick=\"convertToInteractive('df-a6204661-da86-4eb1-99ca-889ea3af2eb8')\"\n",
              "            title=\"Convert this dataframe to an interactive table.\"\n",
              "            style=\"display:none;\">\n",
              "\n",
              "  <svg xmlns=\"http://www.w3.org/2000/svg\" height=\"24px\" viewBox=\"0 -960 960 960\">\n",
              "    <path d=\"M120-120v-720h720v720H120Zm60-500h600v-160H180v160Zm220 220h160v-160H400v160Zm0 220h160v-160H400v160ZM180-400h160v-160H180v160Zm440 0h160v-160H620v160ZM180-180h160v-160H180v160Zm440 0h160v-160H620v160Z\"/>\n",
              "  </svg>\n",
              "    </button>\n",
              "\n",
              "  <style>\n",
              "    .colab-df-container {\n",
              "      display:flex;\n",
              "      gap: 12px;\n",
              "    }\n",
              "\n",
              "    .colab-df-convert {\n",
              "      background-color: #E8F0FE;\n",
              "      border: none;\n",
              "      border-radius: 50%;\n",
              "      cursor: pointer;\n",
              "      display: none;\n",
              "      fill: #1967D2;\n",
              "      height: 32px;\n",
              "      padding: 0 0 0 0;\n",
              "      width: 32px;\n",
              "    }\n",
              "\n",
              "    .colab-df-convert:hover {\n",
              "      background-color: #E2EBFA;\n",
              "      box-shadow: 0px 1px 2px rgba(60, 64, 67, 0.3), 0px 1px 3px 1px rgba(60, 64, 67, 0.15);\n",
              "      fill: #174EA6;\n",
              "    }\n",
              "\n",
              "    .colab-df-buttons div {\n",
              "      margin-bottom: 4px;\n",
              "    }\n",
              "\n",
              "    [theme=dark] .colab-df-convert {\n",
              "      background-color: #3B4455;\n",
              "      fill: #D2E3FC;\n",
              "    }\n",
              "\n",
              "    [theme=dark] .colab-df-convert:hover {\n",
              "      background-color: #434B5C;\n",
              "      box-shadow: 0px 1px 3px 1px rgba(0, 0, 0, 0.15);\n",
              "      filter: drop-shadow(0px 1px 2px rgba(0, 0, 0, 0.3));\n",
              "      fill: #FFFFFF;\n",
              "    }\n",
              "  </style>\n",
              "\n",
              "    <script>\n",
              "      const buttonEl =\n",
              "        document.querySelector('#df-a6204661-da86-4eb1-99ca-889ea3af2eb8 button.colab-df-convert');\n",
              "      buttonEl.style.display =\n",
              "        google.colab.kernel.accessAllowed ? 'block' : 'none';\n",
              "\n",
              "      async function convertToInteractive(key) {\n",
              "        const element = document.querySelector('#df-a6204661-da86-4eb1-99ca-889ea3af2eb8');\n",
              "        const dataTable =\n",
              "          await google.colab.kernel.invokeFunction('convertToInteractive',\n",
              "                                                    [key], {});\n",
              "        if (!dataTable) return;\n",
              "\n",
              "        const docLinkHtml = 'Like what you see? Visit the ' +\n",
              "          '<a target=\"_blank\" href=https://colab.research.google.com/notebooks/data_table.ipynb>data table notebook</a>'\n",
              "          + ' to learn more about interactive tables.';\n",
              "        element.innerHTML = '';\n",
              "        dataTable['output_type'] = 'display_data';\n",
              "        await google.colab.output.renderOutput(dataTable, element);\n",
              "        const docLink = document.createElement('div');\n",
              "        docLink.innerHTML = docLinkHtml;\n",
              "        element.appendChild(docLink);\n",
              "      }\n",
              "    </script>\n",
              "  </div>\n",
              "\n",
              "\n",
              "    </div>\n",
              "  </div>\n"
            ],
            "application/vnd.google.colaboratory.intrinsic+json": {
              "type": "dataframe"
            }
          },
          "metadata": {}
        }
      ],
      "source": [
        "display(df.head(1))\n",
        "print(\"\\n\")\n",
        "display(df.tail(1))"
      ]
    },
    {
      "cell_type": "code",
      "execution_count": 409,
      "metadata": {
        "colab": {
          "base_uri": "https://localhost:8080/"
        },
        "id": "UZrYDIYkKE75",
        "outputId": "c4c7963e-d9ca-40a1-dabd-3175abf50f4d"
      },
      "outputs": [
        {
          "output_type": "stream",
          "name": "stdout",
          "text": [
            "<class 'pandas.core.frame.DataFrame'>\n",
            "RangeIndex: 25155 entries, 0 to 25154\n",
            "Data columns (total 38 columns):\n",
            " #   Column                    Non-Null Count  Dtype \n",
            "---  ------                    --------------  ----- \n",
            " 0   Unnamed: 0                25155 non-null  int64 \n",
            " 1   district                  25155 non-null  object\n",
            " 2   price                     25155 non-null  object\n",
            " 3   address                   25155 non-null  object\n",
            " 4   AdUpdateDate              25155 non-null  object\n",
            " 5   Category                  25155 non-null  object\n",
            " 6   GrossSquareMeters         25155 non-null  object\n",
            " 7   BuildingAge               25155 non-null  object\n",
            " 8   NumberFloorsofBuilding    25155 non-null  int64 \n",
            " 9   UsingStatus               25155 non-null  object\n",
            " 10  EligibilityForInvestment  21506 non-null  object\n",
            " 11  BuildStatus               11231 non-null  object\n",
            " 12  TitleStatus               9712 non-null   object\n",
            " 13  ItemStatus                18332 non-null  object\n",
            " 14  NumberOfBathrooms         25155 non-null  object\n",
            " 15  NumberOfWCs               8129 non-null   object\n",
            " 16  AdCreationDate            25155 non-null  object\n",
            " 17  Type                      25155 non-null  object\n",
            " 18  NetSquareMeters           25155 non-null  object\n",
            " 19  NumberOfRooms             25155 non-null  object\n",
            " 20  FloorLocation             25155 non-null  object\n",
            " 21  HeatingType               25155 non-null  object\n",
            " 22  CreditEligibility         25155 non-null  object\n",
            " 23  InsideTheSite             25155 non-null  object\n",
            " 24  StructureType             10406 non-null  object\n",
            " 25  MortgageStatus            6058 non-null   object\n",
            " 26  Swap                      20839 non-null  object\n",
            " 27  Balcony                   9109 non-null   object\n",
            " 28  PriceStatus               25155 non-null  object\n",
            " 29  RentalIncome              5815 non-null   object\n",
            " 30  NumberOfBalconies         5324 non-null   object\n",
            " 31  BalconyType               4720 non-null   object\n",
            " 32  HallSquareMeters          1433 non-null   object\n",
            " 33  WCSquareMeters            865 non-null    object\n",
            " 34  IsItVideoNavigable?       5481 non-null   object\n",
            " 35  Subscription              4488 non-null   object\n",
            " 36  BathroomSquareMeters      1112 non-null   object\n",
            " 37  BalconySquareMeters       1040 non-null   object\n",
            "dtypes: int64(2), object(36)\n",
            "memory usage: 7.3+ MB\n"
          ]
        }
      ],
      "source": [
        "df.info()"
      ]
    },
    {
      "cell_type": "code",
      "execution_count": 410,
      "metadata": {
        "colab": {
          "base_uri": "https://localhost:8080/"
        },
        "id": "TxT-AyNRKQNs",
        "outputId": "aad373bc-0f45-443a-eda3-37a1c9ec4fcc"
      },
      "outputs": [
        {
          "output_type": "execute_result",
          "data": {
            "text/plain": [
              "(25155, 38)"
            ]
          },
          "metadata": {},
          "execution_count": 410
        }
      ],
      "source": [
        "df.shape"
      ]
    },
    {
      "cell_type": "code",
      "execution_count": 411,
      "metadata": {
        "colab": {
          "base_uri": "https://localhost:8080/",
          "height": 112
        },
        "id": "D9MGubMcKRhE",
        "outputId": "eef9300f-e54b-4776-f40d-69d7a0635a9a"
      },
      "outputs": [
        {
          "output_type": "execute_result",
          "data": {
            "text/plain": [
              "                          count          mean          std  min     25%  \\\n",
              "Unnamed: 0              25155.0  12577.000000  7261.767347  0.0  6288.5   \n",
              "NumberFloorsofBuilding  25155.0      7.757782     6.952397  1.0     4.0   \n",
              "\n",
              "                            50%      75%      max  \n",
              "Unnamed: 0              12577.0  18865.5  25154.0  \n",
              "NumberFloorsofBuilding      5.0      8.0     71.0  "
            ],
            "text/html": [
              "\n",
              "  <div id=\"df-f3c14ea3-e11b-49fc-8bfc-48bb38a96cf2\" class=\"colab-df-container\">\n",
              "    <div>\n",
              "<style scoped>\n",
              "    .dataframe tbody tr th:only-of-type {\n",
              "        vertical-align: middle;\n",
              "    }\n",
              "\n",
              "    .dataframe tbody tr th {\n",
              "        vertical-align: top;\n",
              "    }\n",
              "\n",
              "    .dataframe thead th {\n",
              "        text-align: right;\n",
              "    }\n",
              "</style>\n",
              "<table border=\"1\" class=\"dataframe\">\n",
              "  <thead>\n",
              "    <tr style=\"text-align: right;\">\n",
              "      <th></th>\n",
              "      <th>count</th>\n",
              "      <th>mean</th>\n",
              "      <th>std</th>\n",
              "      <th>min</th>\n",
              "      <th>25%</th>\n",
              "      <th>50%</th>\n",
              "      <th>75%</th>\n",
              "      <th>max</th>\n",
              "    </tr>\n",
              "  </thead>\n",
              "  <tbody>\n",
              "    <tr>\n",
              "      <th>Unnamed: 0</th>\n",
              "      <td>25155.0</td>\n",
              "      <td>12577.000000</td>\n",
              "      <td>7261.767347</td>\n",
              "      <td>0.0</td>\n",
              "      <td>6288.5</td>\n",
              "      <td>12577.0</td>\n",
              "      <td>18865.5</td>\n",
              "      <td>25154.0</td>\n",
              "    </tr>\n",
              "    <tr>\n",
              "      <th>NumberFloorsofBuilding</th>\n",
              "      <td>25155.0</td>\n",
              "      <td>7.757782</td>\n",
              "      <td>6.952397</td>\n",
              "      <td>1.0</td>\n",
              "      <td>4.0</td>\n",
              "      <td>5.0</td>\n",
              "      <td>8.0</td>\n",
              "      <td>71.0</td>\n",
              "    </tr>\n",
              "  </tbody>\n",
              "</table>\n",
              "</div>\n",
              "    <div class=\"colab-df-buttons\">\n",
              "\n",
              "  <div class=\"colab-df-container\">\n",
              "    <button class=\"colab-df-convert\" onclick=\"convertToInteractive('df-f3c14ea3-e11b-49fc-8bfc-48bb38a96cf2')\"\n",
              "            title=\"Convert this dataframe to an interactive table.\"\n",
              "            style=\"display:none;\">\n",
              "\n",
              "  <svg xmlns=\"http://www.w3.org/2000/svg\" height=\"24px\" viewBox=\"0 -960 960 960\">\n",
              "    <path d=\"M120-120v-720h720v720H120Zm60-500h600v-160H180v160Zm220 220h160v-160H400v160Zm0 220h160v-160H400v160ZM180-400h160v-160H180v160Zm440 0h160v-160H620v160ZM180-180h160v-160H180v160Zm440 0h160v-160H620v160Z\"/>\n",
              "  </svg>\n",
              "    </button>\n",
              "\n",
              "  <style>\n",
              "    .colab-df-container {\n",
              "      display:flex;\n",
              "      gap: 12px;\n",
              "    }\n",
              "\n",
              "    .colab-df-convert {\n",
              "      background-color: #E8F0FE;\n",
              "      border: none;\n",
              "      border-radius: 50%;\n",
              "      cursor: pointer;\n",
              "      display: none;\n",
              "      fill: #1967D2;\n",
              "      height: 32px;\n",
              "      padding: 0 0 0 0;\n",
              "      width: 32px;\n",
              "    }\n",
              "\n",
              "    .colab-df-convert:hover {\n",
              "      background-color: #E2EBFA;\n",
              "      box-shadow: 0px 1px 2px rgba(60, 64, 67, 0.3), 0px 1px 3px 1px rgba(60, 64, 67, 0.15);\n",
              "      fill: #174EA6;\n",
              "    }\n",
              "\n",
              "    .colab-df-buttons div {\n",
              "      margin-bottom: 4px;\n",
              "    }\n",
              "\n",
              "    [theme=dark] .colab-df-convert {\n",
              "      background-color: #3B4455;\n",
              "      fill: #D2E3FC;\n",
              "    }\n",
              "\n",
              "    [theme=dark] .colab-df-convert:hover {\n",
              "      background-color: #434B5C;\n",
              "      box-shadow: 0px 1px 3px 1px rgba(0, 0, 0, 0.15);\n",
              "      filter: drop-shadow(0px 1px 2px rgba(0, 0, 0, 0.3));\n",
              "      fill: #FFFFFF;\n",
              "    }\n",
              "  </style>\n",
              "\n",
              "    <script>\n",
              "      const buttonEl =\n",
              "        document.querySelector('#df-f3c14ea3-e11b-49fc-8bfc-48bb38a96cf2 button.colab-df-convert');\n",
              "      buttonEl.style.display =\n",
              "        google.colab.kernel.accessAllowed ? 'block' : 'none';\n",
              "\n",
              "      async function convertToInteractive(key) {\n",
              "        const element = document.querySelector('#df-f3c14ea3-e11b-49fc-8bfc-48bb38a96cf2');\n",
              "        const dataTable =\n",
              "          await google.colab.kernel.invokeFunction('convertToInteractive',\n",
              "                                                    [key], {});\n",
              "        if (!dataTable) return;\n",
              "\n",
              "        const docLinkHtml = 'Like what you see? Visit the ' +\n",
              "          '<a target=\"_blank\" href=https://colab.research.google.com/notebooks/data_table.ipynb>data table notebook</a>'\n",
              "          + ' to learn more about interactive tables.';\n",
              "        element.innerHTML = '';\n",
              "        dataTable['output_type'] = 'display_data';\n",
              "        await google.colab.output.renderOutput(dataTable, element);\n",
              "        const docLink = document.createElement('div');\n",
              "        docLink.innerHTML = docLinkHtml;\n",
              "        element.appendChild(docLink);\n",
              "      }\n",
              "    </script>\n",
              "  </div>\n",
              "\n",
              "\n",
              "    <div id=\"df-0838c063-d7c8-4a4f-8add-ac4a21ad7893\">\n",
              "      <button class=\"colab-df-quickchart\" onclick=\"quickchart('df-0838c063-d7c8-4a4f-8add-ac4a21ad7893')\"\n",
              "                title=\"Suggest charts\"\n",
              "                style=\"display:none;\">\n",
              "\n",
              "<svg xmlns=\"http://www.w3.org/2000/svg\" height=\"24px\"viewBox=\"0 0 24 24\"\n",
              "     width=\"24px\">\n",
              "    <g>\n",
              "        <path d=\"M19 3H5c-1.1 0-2 .9-2 2v14c0 1.1.9 2 2 2h14c1.1 0 2-.9 2-2V5c0-1.1-.9-2-2-2zM9 17H7v-7h2v7zm4 0h-2V7h2v10zm4 0h-2v-4h2v4z\"/>\n",
              "    </g>\n",
              "</svg>\n",
              "      </button>\n",
              "\n",
              "<style>\n",
              "  .colab-df-quickchart {\n",
              "      --bg-color: #E8F0FE;\n",
              "      --fill-color: #1967D2;\n",
              "      --hover-bg-color: #E2EBFA;\n",
              "      --hover-fill-color: #174EA6;\n",
              "      --disabled-fill-color: #AAA;\n",
              "      --disabled-bg-color: #DDD;\n",
              "  }\n",
              "\n",
              "  [theme=dark] .colab-df-quickchart {\n",
              "      --bg-color: #3B4455;\n",
              "      --fill-color: #D2E3FC;\n",
              "      --hover-bg-color: #434B5C;\n",
              "      --hover-fill-color: #FFFFFF;\n",
              "      --disabled-bg-color: #3B4455;\n",
              "      --disabled-fill-color: #666;\n",
              "  }\n",
              "\n",
              "  .colab-df-quickchart {\n",
              "    background-color: var(--bg-color);\n",
              "    border: none;\n",
              "    border-radius: 50%;\n",
              "    cursor: pointer;\n",
              "    display: none;\n",
              "    fill: var(--fill-color);\n",
              "    height: 32px;\n",
              "    padding: 0;\n",
              "    width: 32px;\n",
              "  }\n",
              "\n",
              "  .colab-df-quickchart:hover {\n",
              "    background-color: var(--hover-bg-color);\n",
              "    box-shadow: 0 1px 2px rgba(60, 64, 67, 0.3), 0 1px 3px 1px rgba(60, 64, 67, 0.15);\n",
              "    fill: var(--button-hover-fill-color);\n",
              "  }\n",
              "\n",
              "  .colab-df-quickchart-complete:disabled,\n",
              "  .colab-df-quickchart-complete:disabled:hover {\n",
              "    background-color: var(--disabled-bg-color);\n",
              "    fill: var(--disabled-fill-color);\n",
              "    box-shadow: none;\n",
              "  }\n",
              "\n",
              "  .colab-df-spinner {\n",
              "    border: 2px solid var(--fill-color);\n",
              "    border-color: transparent;\n",
              "    border-bottom-color: var(--fill-color);\n",
              "    animation:\n",
              "      spin 1s steps(1) infinite;\n",
              "  }\n",
              "\n",
              "  @keyframes spin {\n",
              "    0% {\n",
              "      border-color: transparent;\n",
              "      border-bottom-color: var(--fill-color);\n",
              "      border-left-color: var(--fill-color);\n",
              "    }\n",
              "    20% {\n",
              "      border-color: transparent;\n",
              "      border-left-color: var(--fill-color);\n",
              "      border-top-color: var(--fill-color);\n",
              "    }\n",
              "    30% {\n",
              "      border-color: transparent;\n",
              "      border-left-color: var(--fill-color);\n",
              "      border-top-color: var(--fill-color);\n",
              "      border-right-color: var(--fill-color);\n",
              "    }\n",
              "    40% {\n",
              "      border-color: transparent;\n",
              "      border-right-color: var(--fill-color);\n",
              "      border-top-color: var(--fill-color);\n",
              "    }\n",
              "    60% {\n",
              "      border-color: transparent;\n",
              "      border-right-color: var(--fill-color);\n",
              "    }\n",
              "    80% {\n",
              "      border-color: transparent;\n",
              "      border-right-color: var(--fill-color);\n",
              "      border-bottom-color: var(--fill-color);\n",
              "    }\n",
              "    90% {\n",
              "      border-color: transparent;\n",
              "      border-bottom-color: var(--fill-color);\n",
              "    }\n",
              "  }\n",
              "</style>\n",
              "\n",
              "      <script>\n",
              "        async function quickchart(key) {\n",
              "          const quickchartButtonEl =\n",
              "            document.querySelector('#' + key + ' button');\n",
              "          quickchartButtonEl.disabled = true;  // To prevent multiple clicks.\n",
              "          quickchartButtonEl.classList.add('colab-df-spinner');\n",
              "          try {\n",
              "            const charts = await google.colab.kernel.invokeFunction(\n",
              "                'suggestCharts', [key], {});\n",
              "          } catch (error) {\n",
              "            console.error('Error during call to suggestCharts:', error);\n",
              "          }\n",
              "          quickchartButtonEl.classList.remove('colab-df-spinner');\n",
              "          quickchartButtonEl.classList.add('colab-df-quickchart-complete');\n",
              "        }\n",
              "        (() => {\n",
              "          let quickchartButtonEl =\n",
              "            document.querySelector('#df-0838c063-d7c8-4a4f-8add-ac4a21ad7893 button');\n",
              "          quickchartButtonEl.style.display =\n",
              "            google.colab.kernel.accessAllowed ? 'block' : 'none';\n",
              "        })();\n",
              "      </script>\n",
              "    </div>\n",
              "\n",
              "    </div>\n",
              "  </div>\n"
            ],
            "application/vnd.google.colaboratory.intrinsic+json": {
              "type": "dataframe",
              "summary": "{\n  \"name\": \"df\",\n  \"rows\": 2,\n  \"fields\": [\n    {\n      \"column\": \"count\",\n      \"properties\": {\n        \"dtype\": \"number\",\n        \"std\": 0.0,\n        \"min\": 25155.0,\n        \"max\": 25155.0,\n        \"num_unique_values\": 1,\n        \"samples\": [\n          25155.0\n        ],\n        \"semantic_type\": \"\",\n        \"description\": \"\"\n      }\n    },\n    {\n      \"column\": \"mean\",\n      \"properties\": {\n        \"dtype\": \"number\",\n        \"std\": 8887.796406898604,\n        \"min\": 7.75778175313059,\n        \"max\": 12577.0,\n        \"num_unique_values\": 2,\n        \"samples\": [\n          7.75778175313059\n        ],\n        \"semantic_type\": \"\",\n        \"description\": \"\"\n      }\n    },\n    {\n      \"column\": \"std\",\n      \"properties\": {\n        \"dtype\": \"number\",\n        \"std\": 5129.928847614319,\n        \"min\": 6.952396560209735,\n        \"max\": 7261.767346865362,\n        \"num_unique_values\": 2,\n        \"samples\": [\n          6.952396560209735\n        ],\n        \"semantic_type\": \"\",\n        \"description\": \"\"\n      }\n    },\n    {\n      \"column\": \"min\",\n      \"properties\": {\n        \"dtype\": \"number\",\n        \"std\": 0.7071067811865476,\n        \"min\": 0.0,\n        \"max\": 1.0,\n        \"num_unique_values\": 2,\n        \"samples\": [\n          1.0\n        ],\n        \"semantic_type\": \"\",\n        \"description\": \"\"\n      }\n    },\n    {\n      \"column\": \"25%\",\n      \"properties\": {\n        \"dtype\": \"number\",\n        \"std\": 4443.812566366858,\n        \"min\": 4.0,\n        \"max\": 6288.5,\n        \"num_unique_values\": 2,\n        \"samples\": [\n          4.0\n        ],\n        \"semantic_type\": \"\",\n        \"description\": \"\"\n      }\n    },\n    {\n      \"column\": \"50%\",\n      \"properties\": {\n        \"dtype\": \"number\",\n        \"std\": 8889.746453077276,\n        \"min\": 5.0,\n        \"max\": 12577.0,\n        \"num_unique_values\": 2,\n        \"samples\": [\n          5.0\n        ],\n        \"semantic_type\": \"\",\n        \"description\": \"\"\n      }\n    },\n    {\n      \"column\": \"75%\",\n      \"properties\": {\n        \"dtype\": \"number\",\n        \"std\": 13334.26612622532,\n        \"min\": 8.0,\n        \"max\": 18865.5,\n        \"num_unique_values\": 2,\n        \"samples\": [\n          8.0\n        ],\n        \"semantic_type\": \"\",\n        \"description\": \"\"\n      }\n    },\n    {\n      \"column\": \"max\",\n      \"properties\": {\n        \"dtype\": \"number\",\n        \"std\": 17736.35939250217,\n        \"min\": 71.0,\n        \"max\": 25154.0,\n        \"num_unique_values\": 2,\n        \"samples\": [\n          71.0\n        ],\n        \"semantic_type\": \"\",\n        \"description\": \"\"\n      }\n    }\n  ]\n}"
            }
          },
          "metadata": {},
          "execution_count": 411
        }
      ],
      "source": [
        "df.describe().T"
      ]
    },
    {
      "cell_type": "code",
      "execution_count": 412,
      "metadata": {
        "colab": {
          "base_uri": "https://localhost:8080/",
          "height": 1000
        },
        "id": "N5V4oyx1KVXj",
        "outputId": "a890a161-8ecd-4384-a1d5-36b0a8c5222f"
      },
      "outputs": [
        {
          "output_type": "execute_result",
          "data": {
            "text/plain": [
              "                          count unique  \\\n",
              "district                  25155     39   \n",
              "price                     25155   2825   \n",
              "address                   25155   1638   \n",
              "AdUpdateDate              25155    186   \n",
              "Category                  25155      1   \n",
              "GrossSquareMeters         25155    584   \n",
              "BuildingAge               25155     10   \n",
              "UsingStatus               25155      3   \n",
              "EligibilityForInvestment  21506      3   \n",
              "BuildStatus               11231      3   \n",
              "TitleStatus                9712      5   \n",
              "ItemStatus                18332      2   \n",
              "NumberOfBathrooms         25155      7   \n",
              "NumberOfWCs                8129      7   \n",
              "AdCreationDate            25155    728   \n",
              "Type                      25155      1   \n",
              "NetSquareMeters           25155    517   \n",
              "NumberOfRooms             25155     27   \n",
              "FloorLocation             25155     55   \n",
              "HeatingType               25155     15   \n",
              "CreditEligibility         25155      3   \n",
              "InsideTheSite             25155      2   \n",
              "StructureType             10406      8   \n",
              "MortgageStatus             6058      2   \n",
              "Swap                      20839      2   \n",
              "Balcony                    9109      2   \n",
              "PriceStatus               25155      2   \n",
              "RentalIncome               5815    159   \n",
              "NumberOfBalconies          5324      4   \n",
              "BalconyType                4720      5   \n",
              "HallSquareMeters           1433     61   \n",
              "WCSquareMeters              865     22   \n",
              "IsItVideoNavigable?        5481      2   \n",
              "Subscription               4488    229   \n",
              "BathroomSquareMeters       1112     24   \n",
              "BalconySquareMeters        1040     49   \n",
              "\n",
              "                                                                        top  \\\n",
              "district                                                            sariyer   \n",
              "price                                                           1,350,000TL   \n",
              "address                   ['Anasayfa', 'Satılık Residence', 'İstanbul Sa...   \n",
              "AdUpdateDate                                                   04 Mart 2022   \n",
              "Category                                                            Satılık   \n",
              "GrossSquareMeters                                                    100 m2   \n",
              "BuildingAge                                                        0 (Yeni)   \n",
              "UsingStatus                                                             Boş   \n",
              "EligibilityForInvestment                                         Bilinmiyor   \n",
              "BuildStatus                                                       İkinci El   \n",
              "TitleStatus                                                   Kat Mülkiyeti   \n",
              "ItemStatus                                                              Boş   \n",
              "NumberOfBathrooms                                                         1   \n",
              "NumberOfWCs                                                               1   \n",
              "AdCreationDate                                                25 Şubat 2022   \n",
              "Type                                                                  Konut   \n",
              "NetSquareMeters                                                       90 m2   \n",
              "NumberOfRooms                                                           2+1   \n",
              "FloorLocation                                                        2. Kat   \n",
              "HeatingType                                                  Kombi Doğalgaz   \n",
              "CreditEligibility                                             Krediye Uygun   \n",
              "InsideTheSite                                                         Hayır   \n",
              "StructureType                                                     Betonarme   \n",
              "MortgageStatus                                                          Yok   \n",
              "Swap                                                                    Yok   \n",
              "Balcony                                                                 Var   \n",
              "PriceStatus                                                     Genel Fiyat   \n",
              "RentalIncome                                                       3.000 TL   \n",
              "NumberOfBalconies                                                         1   \n",
              "BalconyType                                                     Açık Balkon   \n",
              "HallSquareMeters                                                      25 m2   \n",
              "WCSquareMeters                                                         5 m2   \n",
              "IsItVideoNavigable?                                                   Hayır   \n",
              "Subscription                                                          50 TL   \n",
              "BathroomSquareMeters                                                   5 m2   \n",
              "BalconySquareMeters                                                    5 m2   \n",
              "\n",
              "                           freq  \n",
              "district                   1449  \n",
              "price                       371  \n",
              "address                     452  \n",
              "AdUpdateDate               1605  \n",
              "Category                  25155  \n",
              "GrossSquareMeters          1478  \n",
              "BuildingAge                7333  \n",
              "UsingStatus               11139  \n",
              "EligibilityForInvestment  12751  \n",
              "BuildStatus                6409  \n",
              "TitleStatus                6088  \n",
              "ItemStatus                17491  \n",
              "NumberOfBathrooms         13665  \n",
              "NumberOfWCs                4160  \n",
              "AdCreationDate              685  \n",
              "Type                      25155  \n",
              "NetSquareMeters            1618  \n",
              "NumberOfRooms              9752  \n",
              "FloorLocation              2908  \n",
              "HeatingType               17703  \n",
              "CreditEligibility         22197  \n",
              "InsideTheSite             22928  \n",
              "StructureType             10214  \n",
              "MortgageStatus             5917  \n",
              "Swap                      17304  \n",
              "Balcony                    7695  \n",
              "PriceStatus               24335  \n",
              "RentalIncome                698  \n",
              "NumberOfBalconies          3485  \n",
              "BalconyType                3100  \n",
              "HallSquareMeters            293  \n",
              "WCSquareMeters              167  \n",
              "IsItVideoNavigable?        3413  \n",
              "Subscription                998  \n",
              "BathroomSquareMeters        243  \n",
              "BalconySquareMeters         156  "
            ],
            "text/html": [
              "\n",
              "  <div id=\"df-c4954bfe-1483-43cb-b8f4-2bdf81c5d481\" class=\"colab-df-container\">\n",
              "    <div>\n",
              "<style scoped>\n",
              "    .dataframe tbody tr th:only-of-type {\n",
              "        vertical-align: middle;\n",
              "    }\n",
              "\n",
              "    .dataframe tbody tr th {\n",
              "        vertical-align: top;\n",
              "    }\n",
              "\n",
              "    .dataframe thead th {\n",
              "        text-align: right;\n",
              "    }\n",
              "</style>\n",
              "<table border=\"1\" class=\"dataframe\">\n",
              "  <thead>\n",
              "    <tr style=\"text-align: right;\">\n",
              "      <th></th>\n",
              "      <th>count</th>\n",
              "      <th>unique</th>\n",
              "      <th>top</th>\n",
              "      <th>freq</th>\n",
              "    </tr>\n",
              "  </thead>\n",
              "  <tbody>\n",
              "    <tr>\n",
              "      <th>district</th>\n",
              "      <td>25155</td>\n",
              "      <td>39</td>\n",
              "      <td>sariyer</td>\n",
              "      <td>1449</td>\n",
              "    </tr>\n",
              "    <tr>\n",
              "      <th>price</th>\n",
              "      <td>25155</td>\n",
              "      <td>2825</td>\n",
              "      <td>1,350,000TL</td>\n",
              "      <td>371</td>\n",
              "    </tr>\n",
              "    <tr>\n",
              "      <th>address</th>\n",
              "      <td>25155</td>\n",
              "      <td>1638</td>\n",
              "      <td>['Anasayfa', 'Satılık Residence', 'İstanbul Sa...</td>\n",
              "      <td>452</td>\n",
              "    </tr>\n",
              "    <tr>\n",
              "      <th>AdUpdateDate</th>\n",
              "      <td>25155</td>\n",
              "      <td>186</td>\n",
              "      <td>04 Mart 2022</td>\n",
              "      <td>1605</td>\n",
              "    </tr>\n",
              "    <tr>\n",
              "      <th>Category</th>\n",
              "      <td>25155</td>\n",
              "      <td>1</td>\n",
              "      <td>Satılık</td>\n",
              "      <td>25155</td>\n",
              "    </tr>\n",
              "    <tr>\n",
              "      <th>GrossSquareMeters</th>\n",
              "      <td>25155</td>\n",
              "      <td>584</td>\n",
              "      <td>100 m2</td>\n",
              "      <td>1478</td>\n",
              "    </tr>\n",
              "    <tr>\n",
              "      <th>BuildingAge</th>\n",
              "      <td>25155</td>\n",
              "      <td>10</td>\n",
              "      <td>0 (Yeni)</td>\n",
              "      <td>7333</td>\n",
              "    </tr>\n",
              "    <tr>\n",
              "      <th>UsingStatus</th>\n",
              "      <td>25155</td>\n",
              "      <td>3</td>\n",
              "      <td>Boş</td>\n",
              "      <td>11139</td>\n",
              "    </tr>\n",
              "    <tr>\n",
              "      <th>EligibilityForInvestment</th>\n",
              "      <td>21506</td>\n",
              "      <td>3</td>\n",
              "      <td>Bilinmiyor</td>\n",
              "      <td>12751</td>\n",
              "    </tr>\n",
              "    <tr>\n",
              "      <th>BuildStatus</th>\n",
              "      <td>11231</td>\n",
              "      <td>3</td>\n",
              "      <td>İkinci El</td>\n",
              "      <td>6409</td>\n",
              "    </tr>\n",
              "    <tr>\n",
              "      <th>TitleStatus</th>\n",
              "      <td>9712</td>\n",
              "      <td>5</td>\n",
              "      <td>Kat Mülkiyeti</td>\n",
              "      <td>6088</td>\n",
              "    </tr>\n",
              "    <tr>\n",
              "      <th>ItemStatus</th>\n",
              "      <td>18332</td>\n",
              "      <td>2</td>\n",
              "      <td>Boş</td>\n",
              "      <td>17491</td>\n",
              "    </tr>\n",
              "    <tr>\n",
              "      <th>NumberOfBathrooms</th>\n",
              "      <td>25155</td>\n",
              "      <td>7</td>\n",
              "      <td>1</td>\n",
              "      <td>13665</td>\n",
              "    </tr>\n",
              "    <tr>\n",
              "      <th>NumberOfWCs</th>\n",
              "      <td>8129</td>\n",
              "      <td>7</td>\n",
              "      <td>1</td>\n",
              "      <td>4160</td>\n",
              "    </tr>\n",
              "    <tr>\n",
              "      <th>AdCreationDate</th>\n",
              "      <td>25155</td>\n",
              "      <td>728</td>\n",
              "      <td>25 Şubat 2022</td>\n",
              "      <td>685</td>\n",
              "    </tr>\n",
              "    <tr>\n",
              "      <th>Type</th>\n",
              "      <td>25155</td>\n",
              "      <td>1</td>\n",
              "      <td>Konut</td>\n",
              "      <td>25155</td>\n",
              "    </tr>\n",
              "    <tr>\n",
              "      <th>NetSquareMeters</th>\n",
              "      <td>25155</td>\n",
              "      <td>517</td>\n",
              "      <td>90 m2</td>\n",
              "      <td>1618</td>\n",
              "    </tr>\n",
              "    <tr>\n",
              "      <th>NumberOfRooms</th>\n",
              "      <td>25155</td>\n",
              "      <td>27</td>\n",
              "      <td>2+1</td>\n",
              "      <td>9752</td>\n",
              "    </tr>\n",
              "    <tr>\n",
              "      <th>FloorLocation</th>\n",
              "      <td>25155</td>\n",
              "      <td>55</td>\n",
              "      <td>2. Kat</td>\n",
              "      <td>2908</td>\n",
              "    </tr>\n",
              "    <tr>\n",
              "      <th>HeatingType</th>\n",
              "      <td>25155</td>\n",
              "      <td>15</td>\n",
              "      <td>Kombi Doğalgaz</td>\n",
              "      <td>17703</td>\n",
              "    </tr>\n",
              "    <tr>\n",
              "      <th>CreditEligibility</th>\n",
              "      <td>25155</td>\n",
              "      <td>3</td>\n",
              "      <td>Krediye Uygun</td>\n",
              "      <td>22197</td>\n",
              "    </tr>\n",
              "    <tr>\n",
              "      <th>InsideTheSite</th>\n",
              "      <td>25155</td>\n",
              "      <td>2</td>\n",
              "      <td>Hayır</td>\n",
              "      <td>22928</td>\n",
              "    </tr>\n",
              "    <tr>\n",
              "      <th>StructureType</th>\n",
              "      <td>10406</td>\n",
              "      <td>8</td>\n",
              "      <td>Betonarme</td>\n",
              "      <td>10214</td>\n",
              "    </tr>\n",
              "    <tr>\n",
              "      <th>MortgageStatus</th>\n",
              "      <td>6058</td>\n",
              "      <td>2</td>\n",
              "      <td>Yok</td>\n",
              "      <td>5917</td>\n",
              "    </tr>\n",
              "    <tr>\n",
              "      <th>Swap</th>\n",
              "      <td>20839</td>\n",
              "      <td>2</td>\n",
              "      <td>Yok</td>\n",
              "      <td>17304</td>\n",
              "    </tr>\n",
              "    <tr>\n",
              "      <th>Balcony</th>\n",
              "      <td>9109</td>\n",
              "      <td>2</td>\n",
              "      <td>Var</td>\n",
              "      <td>7695</td>\n",
              "    </tr>\n",
              "    <tr>\n",
              "      <th>PriceStatus</th>\n",
              "      <td>25155</td>\n",
              "      <td>2</td>\n",
              "      <td>Genel Fiyat</td>\n",
              "      <td>24335</td>\n",
              "    </tr>\n",
              "    <tr>\n",
              "      <th>RentalIncome</th>\n",
              "      <td>5815</td>\n",
              "      <td>159</td>\n",
              "      <td>3.000 TL</td>\n",
              "      <td>698</td>\n",
              "    </tr>\n",
              "    <tr>\n",
              "      <th>NumberOfBalconies</th>\n",
              "      <td>5324</td>\n",
              "      <td>4</td>\n",
              "      <td>1</td>\n",
              "      <td>3485</td>\n",
              "    </tr>\n",
              "    <tr>\n",
              "      <th>BalconyType</th>\n",
              "      <td>4720</td>\n",
              "      <td>5</td>\n",
              "      <td>Açık Balkon</td>\n",
              "      <td>3100</td>\n",
              "    </tr>\n",
              "    <tr>\n",
              "      <th>HallSquareMeters</th>\n",
              "      <td>1433</td>\n",
              "      <td>61</td>\n",
              "      <td>25 m2</td>\n",
              "      <td>293</td>\n",
              "    </tr>\n",
              "    <tr>\n",
              "      <th>WCSquareMeters</th>\n",
              "      <td>865</td>\n",
              "      <td>22</td>\n",
              "      <td>5 m2</td>\n",
              "      <td>167</td>\n",
              "    </tr>\n",
              "    <tr>\n",
              "      <th>IsItVideoNavigable?</th>\n",
              "      <td>5481</td>\n",
              "      <td>2</td>\n",
              "      <td>Hayır</td>\n",
              "      <td>3413</td>\n",
              "    </tr>\n",
              "    <tr>\n",
              "      <th>Subscription</th>\n",
              "      <td>4488</td>\n",
              "      <td>229</td>\n",
              "      <td>50 TL</td>\n",
              "      <td>998</td>\n",
              "    </tr>\n",
              "    <tr>\n",
              "      <th>BathroomSquareMeters</th>\n",
              "      <td>1112</td>\n",
              "      <td>24</td>\n",
              "      <td>5 m2</td>\n",
              "      <td>243</td>\n",
              "    </tr>\n",
              "    <tr>\n",
              "      <th>BalconySquareMeters</th>\n",
              "      <td>1040</td>\n",
              "      <td>49</td>\n",
              "      <td>5 m2</td>\n",
              "      <td>156</td>\n",
              "    </tr>\n",
              "  </tbody>\n",
              "</table>\n",
              "</div>\n",
              "    <div class=\"colab-df-buttons\">\n",
              "\n",
              "  <div class=\"colab-df-container\">\n",
              "    <button class=\"colab-df-convert\" onclick=\"convertToInteractive('df-c4954bfe-1483-43cb-b8f4-2bdf81c5d481')\"\n",
              "            title=\"Convert this dataframe to an interactive table.\"\n",
              "            style=\"display:none;\">\n",
              "\n",
              "  <svg xmlns=\"http://www.w3.org/2000/svg\" height=\"24px\" viewBox=\"0 -960 960 960\">\n",
              "    <path d=\"M120-120v-720h720v720H120Zm60-500h600v-160H180v160Zm220 220h160v-160H400v160Zm0 220h160v-160H400v160ZM180-400h160v-160H180v160Zm440 0h160v-160H620v160ZM180-180h160v-160H180v160Zm440 0h160v-160H620v160Z\"/>\n",
              "  </svg>\n",
              "    </button>\n",
              "\n",
              "  <style>\n",
              "    .colab-df-container {\n",
              "      display:flex;\n",
              "      gap: 12px;\n",
              "    }\n",
              "\n",
              "    .colab-df-convert {\n",
              "      background-color: #E8F0FE;\n",
              "      border: none;\n",
              "      border-radius: 50%;\n",
              "      cursor: pointer;\n",
              "      display: none;\n",
              "      fill: #1967D2;\n",
              "      height: 32px;\n",
              "      padding: 0 0 0 0;\n",
              "      width: 32px;\n",
              "    }\n",
              "\n",
              "    .colab-df-convert:hover {\n",
              "      background-color: #E2EBFA;\n",
              "      box-shadow: 0px 1px 2px rgba(60, 64, 67, 0.3), 0px 1px 3px 1px rgba(60, 64, 67, 0.15);\n",
              "      fill: #174EA6;\n",
              "    }\n",
              "\n",
              "    .colab-df-buttons div {\n",
              "      margin-bottom: 4px;\n",
              "    }\n",
              "\n",
              "    [theme=dark] .colab-df-convert {\n",
              "      background-color: #3B4455;\n",
              "      fill: #D2E3FC;\n",
              "    }\n",
              "\n",
              "    [theme=dark] .colab-df-convert:hover {\n",
              "      background-color: #434B5C;\n",
              "      box-shadow: 0px 1px 3px 1px rgba(0, 0, 0, 0.15);\n",
              "      filter: drop-shadow(0px 1px 2px rgba(0, 0, 0, 0.3));\n",
              "      fill: #FFFFFF;\n",
              "    }\n",
              "  </style>\n",
              "\n",
              "    <script>\n",
              "      const buttonEl =\n",
              "        document.querySelector('#df-c4954bfe-1483-43cb-b8f4-2bdf81c5d481 button.colab-df-convert');\n",
              "      buttonEl.style.display =\n",
              "        google.colab.kernel.accessAllowed ? 'block' : 'none';\n",
              "\n",
              "      async function convertToInteractive(key) {\n",
              "        const element = document.querySelector('#df-c4954bfe-1483-43cb-b8f4-2bdf81c5d481');\n",
              "        const dataTable =\n",
              "          await google.colab.kernel.invokeFunction('convertToInteractive',\n",
              "                                                    [key], {});\n",
              "        if (!dataTable) return;\n",
              "\n",
              "        const docLinkHtml = 'Like what you see? Visit the ' +\n",
              "          '<a target=\"_blank\" href=https://colab.research.google.com/notebooks/data_table.ipynb>data table notebook</a>'\n",
              "          + ' to learn more about interactive tables.';\n",
              "        element.innerHTML = '';\n",
              "        dataTable['output_type'] = 'display_data';\n",
              "        await google.colab.output.renderOutput(dataTable, element);\n",
              "        const docLink = document.createElement('div');\n",
              "        docLink.innerHTML = docLinkHtml;\n",
              "        element.appendChild(docLink);\n",
              "      }\n",
              "    </script>\n",
              "  </div>\n",
              "\n",
              "\n",
              "    <div id=\"df-41f46bc0-7eb0-46e9-9121-f9e646af3324\">\n",
              "      <button class=\"colab-df-quickchart\" onclick=\"quickchart('df-41f46bc0-7eb0-46e9-9121-f9e646af3324')\"\n",
              "                title=\"Suggest charts\"\n",
              "                style=\"display:none;\">\n",
              "\n",
              "<svg xmlns=\"http://www.w3.org/2000/svg\" height=\"24px\"viewBox=\"0 0 24 24\"\n",
              "     width=\"24px\">\n",
              "    <g>\n",
              "        <path d=\"M19 3H5c-1.1 0-2 .9-2 2v14c0 1.1.9 2 2 2h14c1.1 0 2-.9 2-2V5c0-1.1-.9-2-2-2zM9 17H7v-7h2v7zm4 0h-2V7h2v10zm4 0h-2v-4h2v4z\"/>\n",
              "    </g>\n",
              "</svg>\n",
              "      </button>\n",
              "\n",
              "<style>\n",
              "  .colab-df-quickchart {\n",
              "      --bg-color: #E8F0FE;\n",
              "      --fill-color: #1967D2;\n",
              "      --hover-bg-color: #E2EBFA;\n",
              "      --hover-fill-color: #174EA6;\n",
              "      --disabled-fill-color: #AAA;\n",
              "      --disabled-bg-color: #DDD;\n",
              "  }\n",
              "\n",
              "  [theme=dark] .colab-df-quickchart {\n",
              "      --bg-color: #3B4455;\n",
              "      --fill-color: #D2E3FC;\n",
              "      --hover-bg-color: #434B5C;\n",
              "      --hover-fill-color: #FFFFFF;\n",
              "      --disabled-bg-color: #3B4455;\n",
              "      --disabled-fill-color: #666;\n",
              "  }\n",
              "\n",
              "  .colab-df-quickchart {\n",
              "    background-color: var(--bg-color);\n",
              "    border: none;\n",
              "    border-radius: 50%;\n",
              "    cursor: pointer;\n",
              "    display: none;\n",
              "    fill: var(--fill-color);\n",
              "    height: 32px;\n",
              "    padding: 0;\n",
              "    width: 32px;\n",
              "  }\n",
              "\n",
              "  .colab-df-quickchart:hover {\n",
              "    background-color: var(--hover-bg-color);\n",
              "    box-shadow: 0 1px 2px rgba(60, 64, 67, 0.3), 0 1px 3px 1px rgba(60, 64, 67, 0.15);\n",
              "    fill: var(--button-hover-fill-color);\n",
              "  }\n",
              "\n",
              "  .colab-df-quickchart-complete:disabled,\n",
              "  .colab-df-quickchart-complete:disabled:hover {\n",
              "    background-color: var(--disabled-bg-color);\n",
              "    fill: var(--disabled-fill-color);\n",
              "    box-shadow: none;\n",
              "  }\n",
              "\n",
              "  .colab-df-spinner {\n",
              "    border: 2px solid var(--fill-color);\n",
              "    border-color: transparent;\n",
              "    border-bottom-color: var(--fill-color);\n",
              "    animation:\n",
              "      spin 1s steps(1) infinite;\n",
              "  }\n",
              "\n",
              "  @keyframes spin {\n",
              "    0% {\n",
              "      border-color: transparent;\n",
              "      border-bottom-color: var(--fill-color);\n",
              "      border-left-color: var(--fill-color);\n",
              "    }\n",
              "    20% {\n",
              "      border-color: transparent;\n",
              "      border-left-color: var(--fill-color);\n",
              "      border-top-color: var(--fill-color);\n",
              "    }\n",
              "    30% {\n",
              "      border-color: transparent;\n",
              "      border-left-color: var(--fill-color);\n",
              "      border-top-color: var(--fill-color);\n",
              "      border-right-color: var(--fill-color);\n",
              "    }\n",
              "    40% {\n",
              "      border-color: transparent;\n",
              "      border-right-color: var(--fill-color);\n",
              "      border-top-color: var(--fill-color);\n",
              "    }\n",
              "    60% {\n",
              "      border-color: transparent;\n",
              "      border-right-color: var(--fill-color);\n",
              "    }\n",
              "    80% {\n",
              "      border-color: transparent;\n",
              "      border-right-color: var(--fill-color);\n",
              "      border-bottom-color: var(--fill-color);\n",
              "    }\n",
              "    90% {\n",
              "      border-color: transparent;\n",
              "      border-bottom-color: var(--fill-color);\n",
              "    }\n",
              "  }\n",
              "</style>\n",
              "\n",
              "      <script>\n",
              "        async function quickchart(key) {\n",
              "          const quickchartButtonEl =\n",
              "            document.querySelector('#' + key + ' button');\n",
              "          quickchartButtonEl.disabled = true;  // To prevent multiple clicks.\n",
              "          quickchartButtonEl.classList.add('colab-df-spinner');\n",
              "          try {\n",
              "            const charts = await google.colab.kernel.invokeFunction(\n",
              "                'suggestCharts', [key], {});\n",
              "          } catch (error) {\n",
              "            console.error('Error during call to suggestCharts:', error);\n",
              "          }\n",
              "          quickchartButtonEl.classList.remove('colab-df-spinner');\n",
              "          quickchartButtonEl.classList.add('colab-df-quickchart-complete');\n",
              "        }\n",
              "        (() => {\n",
              "          let quickchartButtonEl =\n",
              "            document.querySelector('#df-41f46bc0-7eb0-46e9-9121-f9e646af3324 button');\n",
              "          quickchartButtonEl.style.display =\n",
              "            google.colab.kernel.accessAllowed ? 'block' : 'none';\n",
              "        })();\n",
              "      </script>\n",
              "    </div>\n",
              "\n",
              "    </div>\n",
              "  </div>\n"
            ],
            "application/vnd.google.colaboratory.intrinsic+json": {
              "type": "dataframe",
              "summary": "{\n  \"name\": \"df\",\n  \"rows\": 36,\n  \"fields\": [\n    {\n      \"column\": \"count\",\n      \"properties\": {\n        \"dtype\": \"date\",\n        \"min\": \"865\",\n        \"max\": \"25155\",\n        \"num_unique_values\": 19,\n        \"samples\": [\n          \"25155\",\n          \"8129\",\n          \"5324\"\n        ],\n        \"semantic_type\": \"\",\n        \"description\": \"\"\n      }\n    },\n    {\n      \"column\": \"unique\",\n      \"properties\": {\n        \"dtype\": \"date\",\n        \"min\": 1,\n        \"max\": 2825,\n        \"num_unique_values\": 24,\n        \"samples\": [\n          5,\n          8,\n          39\n        ],\n        \"semantic_type\": \"\",\n        \"description\": \"\"\n      }\n    },\n    {\n      \"column\": \"top\",\n      \"properties\": {\n        \"dtype\": \"string\",\n        \"num_unique_values\": 29,\n        \"samples\": [\n          \"5 m2\",\n          \"2. Kat\",\n          \"25 \\u015eubat 2022\"\n        ],\n        \"semantic_type\": \"\",\n        \"description\": \"\"\n      }\n    },\n    {\n      \"column\": \"freq\",\n      \"properties\": {\n        \"dtype\": \"date\",\n        \"min\": \"156\",\n        \"max\": \"25155\",\n        \"num_unique_values\": 35,\n        \"samples\": [\n          \"698\",\n          \"4160\",\n          \"7695\"\n        ],\n        \"semantic_type\": \"\",\n        \"description\": \"\"\n      }\n    }\n  ]\n}"
            }
          },
          "metadata": {},
          "execution_count": 412
        }
      ],
      "source": [
        "df.describe(include=\"object\").T"
      ]
    },
    {
      "cell_type": "code",
      "execution_count": 413,
      "metadata": {
        "colab": {
          "base_uri": "https://localhost:8080/",
          "height": 1000
        },
        "id": "EPqJrZbVKqx7",
        "outputId": "96998f8e-fe98-4c4f-e232-3ea496177f99"
      },
      "outputs": [
        {
          "output_type": "execute_result",
          "data": {
            "text/plain": [
              "Unnamed: 0                      0\n",
              "district                        0\n",
              "price                           0\n",
              "address                         0\n",
              "AdUpdateDate                    0\n",
              "Category                        0\n",
              "GrossSquareMeters               0\n",
              "BuildingAge                     0\n",
              "NumberFloorsofBuilding          0\n",
              "UsingStatus                     0\n",
              "EligibilityForInvestment     3649\n",
              "BuildStatus                 13924\n",
              "TitleStatus                 15443\n",
              "ItemStatus                   6823\n",
              "NumberOfBathrooms               0\n",
              "NumberOfWCs                 17026\n",
              "AdCreationDate                  0\n",
              "Type                            0\n",
              "NetSquareMeters                 0\n",
              "NumberOfRooms                   0\n",
              "FloorLocation                   0\n",
              "HeatingType                     0\n",
              "CreditEligibility               0\n",
              "InsideTheSite                   0\n",
              "StructureType               14749\n",
              "MortgageStatus              19097\n",
              "Swap                         4316\n",
              "Balcony                     16046\n",
              "PriceStatus                     0\n",
              "RentalIncome                19340\n",
              "NumberOfBalconies           19831\n",
              "BalconyType                 20435\n",
              "HallSquareMeters            23722\n",
              "WCSquareMeters              24290\n",
              "IsItVideoNavigable?         19674\n",
              "Subscription                20667\n",
              "BathroomSquareMeters        24043\n",
              "BalconySquareMeters         24115\n",
              "dtype: int64"
            ],
            "text/html": [
              "<div>\n",
              "<style scoped>\n",
              "    .dataframe tbody tr th:only-of-type {\n",
              "        vertical-align: middle;\n",
              "    }\n",
              "\n",
              "    .dataframe tbody tr th {\n",
              "        vertical-align: top;\n",
              "    }\n",
              "\n",
              "    .dataframe thead th {\n",
              "        text-align: right;\n",
              "    }\n",
              "</style>\n",
              "<table border=\"1\" class=\"dataframe\">\n",
              "  <thead>\n",
              "    <tr style=\"text-align: right;\">\n",
              "      <th></th>\n",
              "      <th>0</th>\n",
              "    </tr>\n",
              "  </thead>\n",
              "  <tbody>\n",
              "    <tr>\n",
              "      <th>Unnamed: 0</th>\n",
              "      <td>0</td>\n",
              "    </tr>\n",
              "    <tr>\n",
              "      <th>district</th>\n",
              "      <td>0</td>\n",
              "    </tr>\n",
              "    <tr>\n",
              "      <th>price</th>\n",
              "      <td>0</td>\n",
              "    </tr>\n",
              "    <tr>\n",
              "      <th>address</th>\n",
              "      <td>0</td>\n",
              "    </tr>\n",
              "    <tr>\n",
              "      <th>AdUpdateDate</th>\n",
              "      <td>0</td>\n",
              "    </tr>\n",
              "    <tr>\n",
              "      <th>Category</th>\n",
              "      <td>0</td>\n",
              "    </tr>\n",
              "    <tr>\n",
              "      <th>GrossSquareMeters</th>\n",
              "      <td>0</td>\n",
              "    </tr>\n",
              "    <tr>\n",
              "      <th>BuildingAge</th>\n",
              "      <td>0</td>\n",
              "    </tr>\n",
              "    <tr>\n",
              "      <th>NumberFloorsofBuilding</th>\n",
              "      <td>0</td>\n",
              "    </tr>\n",
              "    <tr>\n",
              "      <th>UsingStatus</th>\n",
              "      <td>0</td>\n",
              "    </tr>\n",
              "    <tr>\n",
              "      <th>EligibilityForInvestment</th>\n",
              "      <td>3649</td>\n",
              "    </tr>\n",
              "    <tr>\n",
              "      <th>BuildStatus</th>\n",
              "      <td>13924</td>\n",
              "    </tr>\n",
              "    <tr>\n",
              "      <th>TitleStatus</th>\n",
              "      <td>15443</td>\n",
              "    </tr>\n",
              "    <tr>\n",
              "      <th>ItemStatus</th>\n",
              "      <td>6823</td>\n",
              "    </tr>\n",
              "    <tr>\n",
              "      <th>NumberOfBathrooms</th>\n",
              "      <td>0</td>\n",
              "    </tr>\n",
              "    <tr>\n",
              "      <th>NumberOfWCs</th>\n",
              "      <td>17026</td>\n",
              "    </tr>\n",
              "    <tr>\n",
              "      <th>AdCreationDate</th>\n",
              "      <td>0</td>\n",
              "    </tr>\n",
              "    <tr>\n",
              "      <th>Type</th>\n",
              "      <td>0</td>\n",
              "    </tr>\n",
              "    <tr>\n",
              "      <th>NetSquareMeters</th>\n",
              "      <td>0</td>\n",
              "    </tr>\n",
              "    <tr>\n",
              "      <th>NumberOfRooms</th>\n",
              "      <td>0</td>\n",
              "    </tr>\n",
              "    <tr>\n",
              "      <th>FloorLocation</th>\n",
              "      <td>0</td>\n",
              "    </tr>\n",
              "    <tr>\n",
              "      <th>HeatingType</th>\n",
              "      <td>0</td>\n",
              "    </tr>\n",
              "    <tr>\n",
              "      <th>CreditEligibility</th>\n",
              "      <td>0</td>\n",
              "    </tr>\n",
              "    <tr>\n",
              "      <th>InsideTheSite</th>\n",
              "      <td>0</td>\n",
              "    </tr>\n",
              "    <tr>\n",
              "      <th>StructureType</th>\n",
              "      <td>14749</td>\n",
              "    </tr>\n",
              "    <tr>\n",
              "      <th>MortgageStatus</th>\n",
              "      <td>19097</td>\n",
              "    </tr>\n",
              "    <tr>\n",
              "      <th>Swap</th>\n",
              "      <td>4316</td>\n",
              "    </tr>\n",
              "    <tr>\n",
              "      <th>Balcony</th>\n",
              "      <td>16046</td>\n",
              "    </tr>\n",
              "    <tr>\n",
              "      <th>PriceStatus</th>\n",
              "      <td>0</td>\n",
              "    </tr>\n",
              "    <tr>\n",
              "      <th>RentalIncome</th>\n",
              "      <td>19340</td>\n",
              "    </tr>\n",
              "    <tr>\n",
              "      <th>NumberOfBalconies</th>\n",
              "      <td>19831</td>\n",
              "    </tr>\n",
              "    <tr>\n",
              "      <th>BalconyType</th>\n",
              "      <td>20435</td>\n",
              "    </tr>\n",
              "    <tr>\n",
              "      <th>HallSquareMeters</th>\n",
              "      <td>23722</td>\n",
              "    </tr>\n",
              "    <tr>\n",
              "      <th>WCSquareMeters</th>\n",
              "      <td>24290</td>\n",
              "    </tr>\n",
              "    <tr>\n",
              "      <th>IsItVideoNavigable?</th>\n",
              "      <td>19674</td>\n",
              "    </tr>\n",
              "    <tr>\n",
              "      <th>Subscription</th>\n",
              "      <td>20667</td>\n",
              "    </tr>\n",
              "    <tr>\n",
              "      <th>BathroomSquareMeters</th>\n",
              "      <td>24043</td>\n",
              "    </tr>\n",
              "    <tr>\n",
              "      <th>BalconySquareMeters</th>\n",
              "      <td>24115</td>\n",
              "    </tr>\n",
              "  </tbody>\n",
              "</table>\n",
              "</div><br><label><b>dtype:</b> int64</label>"
            ]
          },
          "metadata": {},
          "execution_count": 413
        }
      ],
      "source": [
        "df.isnull().sum()"
      ]
    },
    {
      "cell_type": "code",
      "execution_count": 414,
      "metadata": {
        "id": "dWCo7c0Ielof"
      },
      "outputs": [],
      "source": [
        "missing_values = df.isnull().mean() * 100\n",
        "\n",
        "missing_percentage = df.isnull().mean() * 100\n",
        "\n",
        "columns_to_drop = missing_percentage[missing_percentage > 70].index"
      ]
    },
    {
      "cell_type": "code",
      "execution_count": 415,
      "metadata": {
        "colab": {
          "base_uri": "https://localhost:8080/"
        },
        "id": "-Xk33bOsfiEn",
        "outputId": "860e41fe-8d13-4cc5-b5a3-5a56027d0cc1"
      },
      "outputs": [
        {
          "output_type": "execute_result",
          "data": {
            "text/plain": [
              "Index(['MortgageStatus', 'RentalIncome', 'NumberOfBalconies', 'BalconyType',\n",
              "       'HallSquareMeters', 'WCSquareMeters', 'IsItVideoNavigable?',\n",
              "       'Subscription', 'BathroomSquareMeters', 'BalconySquareMeters'],\n",
              "      dtype='object')"
            ]
          },
          "metadata": {},
          "execution_count": 415
        }
      ],
      "source": [
        "columns_to_drop"
      ]
    },
    {
      "cell_type": "code",
      "execution_count": 416,
      "metadata": {
        "colab": {
          "base_uri": "https://localhost:8080/"
        },
        "id": "rdmgJcahfjmu",
        "outputId": "76bd2521-adb7-490b-842d-b12bc049d8eb"
      },
      "outputs": [
        {
          "output_type": "stream",
          "name": "stdout",
          "text": [
            "Columns dropped: Index(['MortgageStatus', 'RentalIncome', 'NumberOfBalconies', 'BalconyType',\n",
            "       'HallSquareMeters', 'WCSquareMeters', 'IsItVideoNavigable?',\n",
            "       'Subscription', 'BathroomSquareMeters', 'BalconySquareMeters'],\n",
            "      dtype='object')\n"
          ]
        }
      ],
      "source": [
        "df = df.drop(columns=columns_to_drop)\n",
        "\n",
        "print(f\"Columns dropped: {columns_to_drop}\")"
      ]
    },
    {
      "cell_type": "code",
      "execution_count": 417,
      "metadata": {
        "id": "mm9MHdOuf0ee"
      },
      "outputs": [],
      "source": [
        "df = df.drop(columns=[\"Unnamed: 0\", \"NumberOfWCs\"])"
      ]
    },
    {
      "cell_type": "code",
      "source": [
        "df[\"Balcony\"] = df[\"Balcony\"].fillna(0)\n",
        "df[\"Balcony\"] = df[\"Balcony\"].map({\"Var\": 1, \"Yok\": 0})"
      ],
      "metadata": {
        "id": "v57QMjjko746"
      },
      "execution_count": 418,
      "outputs": []
    },
    {
      "cell_type": "code",
      "source": [
        "df[\"TitleStatus\"].unique()"
      ],
      "metadata": {
        "colab": {
          "base_uri": "https://localhost:8080/"
        },
        "id": "TVV4p1ZGoTEq",
        "outputId": "e50523b9-7bf2-4bc2-d296-e7ef17a4110a"
      },
      "execution_count": 419,
      "outputs": [
        {
          "output_type": "execute_result",
          "data": {
            "text/plain": [
              "array([nan, 'Kat Mülkiyeti', 'Yok', 'Kat İrtifakı', 'Arsa',\n",
              "       'Hisseli Tapu'], dtype=object)"
            ]
          },
          "metadata": {},
          "execution_count": 419
        }
      ]
    },
    {
      "cell_type": "code",
      "source": [
        "df[\"TitleStatus\"] = df[\"TitleStatus\"].fillna(df[\"TitleStatus\"].mode()[0])\n",
        "df[\"TitleStatus\"] = le.fit_transform(df[\"TitleStatus\"])"
      ],
      "metadata": {
        "id": "s8jrSJP1oJXx"
      },
      "execution_count": 420,
      "outputs": []
    },
    {
      "cell_type": "code",
      "execution_count": 421,
      "metadata": {
        "colab": {
          "base_uri": "https://localhost:8080/"
        },
        "id": "LDiNPrcGgwa-",
        "outputId": "cde4e81e-2ddf-45ef-e1bf-da6a13d70718"
      },
      "outputs": [
        {
          "output_type": "stream",
          "name": "stdout",
          "text": [
            "district: 39 unique values\n",
            "Values: ['adalar' 'arnavutkoy' 'atasehir' 'avcilar' 'bagcilar' 'bahcelievler'\n",
            " 'bakirkoy' 'basaksehir' 'bayrampasa' 'besiktas' 'beykoz' 'beylikduzu'\n",
            " 'beyoglu' 'buyukcekmece' 'catalca' 'cekmekoy' 'esenler' 'esenyurt'\n",
            " 'eyupsultan' 'fatih' 'gaziosmanpasa' 'gungoren' 'kadikoy' 'kagithane'\n",
            " 'kartal' 'kucukcekmece' 'maltepe' 'pendik' 'sancaktepe' 'sariyer' 'sile'\n",
            " 'silivri' 'sisli' 'sultanbeyli' 'sultangazi' 'tuzla' 'umraniye' 'uskudar'\n",
            " 'zeytinburnu']\n",
            "\n",
            "Category: 1 unique values\n",
            "Values: ['Satılık']\n",
            "\n",
            "BuildingAge: 10 unique values\n",
            "Values: ['21 Ve Üzeri' '5-10' '11-15' '2' '0 (Yeni)' '3' '4' '16-20' '1'\n",
            " '20 Ve Üzeri']\n",
            "\n",
            "UsingStatus: 3 unique values\n",
            "Values: ['Mülk Sahibi Oturuyor' 'Boş' 'Kiracı Oturuyor']\n",
            "\n",
            "EligibilityForInvestment: 4 unique values\n",
            "Values: ['Bilinmiyor' 'Yatırıma Uygun' nan 'Yatırıma Uygun Değil']\n",
            "\n",
            "BuildStatus: 4 unique values\n",
            "Values: [nan 'İkinci El' 'Sıfır' 'Yapım Aşamasında']\n",
            "\n",
            "ItemStatus: 3 unique values\n",
            "Values: ['Eşyalı' 'Boş' nan]\n",
            "\n",
            "NumberOfBathrooms: 7 unique values\n",
            "Values: ['2' '1' '3' '4' '5' 'Yok' '6+']\n",
            "\n",
            "Type: 1 unique values\n",
            "Values: ['Konut']\n",
            "\n",
            "NumberOfRooms: 27 unique values\n",
            "Values: ['3+1' '2+1' '8+ Oda' '3+2' '5+1' '5 Oda' '2+2' '7+3' '1+1' '5+3' '1 Oda'\n",
            " '6+1' '4+2' '5+2' '4+1' '6+2' '6+3' '2.5+1' 'Stüdyo' '6+4' '7+1' '1.5+1'\n",
            " '2+0' '7+2' '3.5+1' '4.5+1' '5+4']\n",
            "\n",
            "FloorLocation: 55 unique values\n",
            "Values: ['Çatı Katı' 'Bahçe Katı' 'Düz Giriş' 'Bahçe Dublex' 'Villa Tipi' '1. Kat'\n",
            " 'Müstakil' '3. Kat' '2. Kat' 'Çatı Dubleks' 'Yüksek Giriş' '5. Kat'\n",
            " '4. Kat' '7. Kat' 'Kot 2 (-2). Kat' 'Kot 3 (-3). Kat' '8. Kat' '6. Kat'\n",
            " 'Kot 1 (-1). Kat' '10. Kat' '32. Kat' '13. Kat' '14. Kat' '22. Kat'\n",
            " '16. Kat' '19. Kat' '9. Kat' '28. Kat' '15. Kat' '30-40. Kat' '12. Kat'\n",
            " 'Tam Bodrum' '11. Kat' '23. Kat' 'Yarı Bodrum' '18. Kat' '33. Kat'\n",
            " '10-20. Kat' '21. Kat' '17. Kat' '26. Kat' '27. Kat' '20. Kat' '29. Kat'\n",
            " '25. Kat' '24. Kat' '31. Kat' 'Yüksek Bodrum' '20-30. Kat' '30. Kat'\n",
            " '36. Kat' '38. Kat' '34. Kat' '40+. Kat' '35. Kat']\n",
            "\n",
            "HeatingType: 15 unique values\n",
            "Values: ['Kombi Doğalgaz' 'Isıtma Yok' 'Sobalı' 'Klimalı' 'Kat Kaloriferi'\n",
            " 'Merkezi Doğalgaz' 'Doğalgaz Sobalı' 'Merkezi (Pay Ölçer)'\n",
            " 'Yerden Isıtma' 'Güneş Enerjisi' 'Kombi Fueloil' 'Merkezi Fueloil'\n",
            " 'Jeotermal' 'Kombi Katı Yakıt' 'Isı Pompası']\n",
            "\n",
            "CreditEligibility: 3 unique values\n",
            "Values: ['Krediye Uygun' 'Krediye Uygun Değil' 'Bilinmiyor']\n",
            "\n",
            "InsideTheSite: 2 unique values\n",
            "Values: ['Hayır' 'Evet']\n",
            "\n",
            "StructureType: 9 unique values\n",
            "Values: [nan 'Betonarme' 'Ahşap' 'Prefabrik' 'Kagir' 'Taş Bina' 'Çelik' 'Yığma'\n",
            " 'Kütük']\n",
            "\n",
            "Swap: 3 unique values\n",
            "Values: ['Yok' nan 'Var']\n",
            "\n",
            "PriceStatus: 2 unique values\n",
            "Values: ['Genel Fiyat' 'Birim Fiyat']\n",
            "\n"
          ]
        }
      ],
      "source": [
        "object_columns = df.select_dtypes(include=['object']).columns\n",
        "\n",
        "unique_values = {col: df[col].unique() for col in object_columns}\n",
        "\n",
        "for col, values in unique_values.items():\n",
        "    if len(values) < 60:\n",
        "        print(f\"{col}: {len(values)} unique values\")\n",
        "        print(f\"Values: {values}\\n\")"
      ]
    },
    {
      "cell_type": "code",
      "execution_count": 422,
      "metadata": {
        "colab": {
          "base_uri": "https://localhost:8080/"
        },
        "id": "yw7ZabD5hRqX",
        "outputId": "49d25265-229c-43c8-de28-87d45e6578bf"
      },
      "outputs": [
        {
          "output_type": "execute_result",
          "data": {
            "text/plain": [
              "array(['21 Ve Üzeri', '5-10', '11-15', '2', '0 (Yeni)', '3', '4', '16-20',\n",
              "       '1', '20 Ve Üzeri'], dtype=object)"
            ]
          },
          "metadata": {},
          "execution_count": 422
        }
      ],
      "source": [
        "df[\"BuildingAge\"].unique()"
      ]
    },
    {
      "cell_type": "code",
      "execution_count": 423,
      "metadata": {
        "id": "UknGPdGzirw2"
      },
      "outputs": [],
      "source": [
        "df[\"BuildingAge\"] = df[\"BuildingAge\"].map({\"0 (Yeni)\": 0,\n",
        "                                           \"1\": 1,\n",
        "                                           \"2\": 2,\n",
        "                                           \"3\": 3,\n",
        "                                           \"4\": 4,\n",
        "                                           \"5-10\":5,\n",
        "                                           \"11-15\":6,\n",
        "                                           \"16-20\":7,\n",
        "                                           \"20 Ve Üzeri\":8,\n",
        "                                           \"21 Ve Üzeri\":8})"
      ]
    },
    {
      "cell_type": "code",
      "execution_count": 424,
      "metadata": {
        "colab": {
          "base_uri": "https://localhost:8080/"
        },
        "id": "4KQmxJAWjkEm",
        "outputId": "cbdcfd33-ce99-46f3-d4bd-89ec5183c2f2"
      },
      "outputs": [
        {
          "output_type": "execute_result",
          "data": {
            "text/plain": [
              "dtype('int64')"
            ]
          },
          "metadata": {},
          "execution_count": 424
        }
      ],
      "source": [
        "df[\"BuildingAge\"].dtype"
      ]
    },
    {
      "cell_type": "code",
      "execution_count": 425,
      "metadata": {
        "id": "1xmI0GHMhZ1G"
      },
      "outputs": [],
      "source": [
        "# df[\"EligibilityForInvestment\"] = df[\"EligibilityForInvestment\"].replace({\"Bilinmiyor\": np.nan}) -unnecessary"
      ]
    },
    {
      "cell_type": "code",
      "execution_count": 426,
      "metadata": {
        "colab": {
          "base_uri": "https://localhost:8080/"
        },
        "id": "iXmftqX1hzl2",
        "outputId": "f66834d4-3d7d-4bac-801f-dd099aa8e137"
      },
      "outputs": [
        {
          "output_type": "execute_result",
          "data": {
            "text/plain": [
              "array(['Bilinmiyor', 'Yatırıma Uygun', nan, 'Yatırıma Uygun Değil'],\n",
              "      dtype=object)"
            ]
          },
          "metadata": {},
          "execution_count": 426
        }
      ],
      "source": [
        "df[\"EligibilityForInvestment\"].unique()"
      ]
    },
    {
      "cell_type": "code",
      "execution_count": 427,
      "metadata": {
        "colab": {
          "base_uri": "https://localhost:8080/",
          "height": 209
        },
        "id": "ZghfA1L5jm_N",
        "outputId": "a733faa4-81a5-47ce-b1ef-7840af0dd105"
      },
      "outputs": [
        {
          "output_type": "execute_result",
          "data": {
            "text/plain": [
              "EligibilityForInvestment\n",
              "Bilinmiyor              12751\n",
              "Yatırıma Uygun           8720\n",
              "Yatırıma Uygun Değil       35\n",
              "Name: count, dtype: int64"
            ],
            "text/html": [
              "<div>\n",
              "<style scoped>\n",
              "    .dataframe tbody tr th:only-of-type {\n",
              "        vertical-align: middle;\n",
              "    }\n",
              "\n",
              "    .dataframe tbody tr th {\n",
              "        vertical-align: top;\n",
              "    }\n",
              "\n",
              "    .dataframe thead th {\n",
              "        text-align: right;\n",
              "    }\n",
              "</style>\n",
              "<table border=\"1\" class=\"dataframe\">\n",
              "  <thead>\n",
              "    <tr style=\"text-align: right;\">\n",
              "      <th></th>\n",
              "      <th>count</th>\n",
              "    </tr>\n",
              "    <tr>\n",
              "      <th>EligibilityForInvestment</th>\n",
              "      <th></th>\n",
              "    </tr>\n",
              "  </thead>\n",
              "  <tbody>\n",
              "    <tr>\n",
              "      <th>Bilinmiyor</th>\n",
              "      <td>12751</td>\n",
              "    </tr>\n",
              "    <tr>\n",
              "      <th>Yatırıma Uygun</th>\n",
              "      <td>8720</td>\n",
              "    </tr>\n",
              "    <tr>\n",
              "      <th>Yatırıma Uygun Değil</th>\n",
              "      <td>35</td>\n",
              "    </tr>\n",
              "  </tbody>\n",
              "</table>\n",
              "</div><br><label><b>dtype:</b> int64</label>"
            ]
          },
          "metadata": {},
          "execution_count": 427
        }
      ],
      "source": [
        "df[\"EligibilityForInvestment\"].value_counts()"
      ]
    },
    {
      "cell_type": "code",
      "execution_count": 428,
      "metadata": {
        "colab": {
          "base_uri": "https://localhost:8080/"
        },
        "id": "YJZsk1aDj3HW",
        "outputId": "be3dfb18-ef4c-48ea-bc76-15f07f67a2f7"
      },
      "outputs": [
        {
          "output_type": "execute_result",
          "data": {
            "text/plain": [
              "np.int64(3649)"
            ]
          },
          "metadata": {},
          "execution_count": 428
        }
      ],
      "source": [
        "df[\"EligibilityForInvestment\"].isnull().sum()"
      ]
    },
    {
      "cell_type": "markdown",
      "metadata": {
        "id": "2DfrnY5okOgd"
      },
      "source": [
        "This will confuse the model very much, so let's consolidate the Yatırıma Uygun Değil with Bilinmiyor."
      ]
    },
    {
      "cell_type": "code",
      "execution_count": 429,
      "metadata": {
        "id": "YR5TbffdkYMd"
      },
      "outputs": [],
      "source": [
        "df[\"EligibilityForInvestment\"] = df[\"EligibilityForInvestment\"].replace({\n",
        "    \"Yatırıma Uygun Değil\": \"Bilinmiyor\"\n",
        "})\n",
        "\n",
        "df[\"EligibilityForInvestment\"] = df[\"EligibilityForInvestment\"].fillna(\"Bilinmiyor\")\n",
        "\n",
        "df[\"EligibilityForInvestment\"] = df[\"EligibilityForInvestment\"].map({\n",
        "    \"Yatırıma Uygun\": 1,\n",
        "    \"Bilinmiyor\": 0\n",
        "})"
      ]
    },
    {
      "cell_type": "code",
      "execution_count": 430,
      "metadata": {
        "colab": {
          "base_uri": "https://localhost:8080/"
        },
        "id": "8oM_DMRRiJg3",
        "outputId": "52fda13c-1635-4038-f562-33cdfc5dd4b5"
      },
      "outputs": [
        {
          "output_type": "execute_result",
          "data": {
            "text/plain": [
              "array(['3+1', '2+1', '8+ Oda', '3+2', '5+1', '5 Oda', '2+2', '7+3', '1+1',\n",
              "       '5+3', '1 Oda', '6+1', '4+2', '5+2', '4+1', '6+2', '6+3', '2.5+1',\n",
              "       'Stüdyo', '6+4', '7+1', '1.5+1', '2+0', '7+2', '3.5+1', '4.5+1',\n",
              "       '5+4'], dtype=object)"
            ]
          },
          "metadata": {},
          "execution_count": 430
        }
      ],
      "source": [
        "df[\"NumberOfRooms\"].unique()"
      ]
    },
    {
      "cell_type": "code",
      "execution_count": 431,
      "metadata": {
        "colab": {
          "base_uri": "https://localhost:8080/",
          "height": 962
        },
        "id": "qF6ZTpk3k4Nt",
        "outputId": "87f0dadd-a783-45f6-8d2f-98c00812e4b8"
      },
      "outputs": [
        {
          "output_type": "execute_result",
          "data": {
            "text/plain": [
              "NumberOfRooms\n",
              "2+1       9752\n",
              "3+1       6868\n",
              "1+1       2046\n",
              "4+1       1687\n",
              "4+2       1148\n",
              "3+2        642\n",
              "5+2        597\n",
              "5+1        589\n",
              "8+ Oda     324\n",
              "Stüdyo     263\n",
              "6+2        233\n",
              "6+1        180\n",
              "1 Oda      169\n",
              "2+2        161\n",
              "3.5+1       87\n",
              "7+2         72\n",
              "4.5+1       55\n",
              "2.5+1       48\n",
              "7+3         42\n",
              "7+1         41\n",
              "5+3         41\n",
              "6+3         37\n",
              "1.5+1       32\n",
              "2+0         14\n",
              "5 Oda       13\n",
              "6+4         10\n",
              "5+4          4\n",
              "Name: count, dtype: int64"
            ],
            "text/html": [
              "<div>\n",
              "<style scoped>\n",
              "    .dataframe tbody tr th:only-of-type {\n",
              "        vertical-align: middle;\n",
              "    }\n",
              "\n",
              "    .dataframe tbody tr th {\n",
              "        vertical-align: top;\n",
              "    }\n",
              "\n",
              "    .dataframe thead th {\n",
              "        text-align: right;\n",
              "    }\n",
              "</style>\n",
              "<table border=\"1\" class=\"dataframe\">\n",
              "  <thead>\n",
              "    <tr style=\"text-align: right;\">\n",
              "      <th></th>\n",
              "      <th>count</th>\n",
              "    </tr>\n",
              "    <tr>\n",
              "      <th>NumberOfRooms</th>\n",
              "      <th></th>\n",
              "    </tr>\n",
              "  </thead>\n",
              "  <tbody>\n",
              "    <tr>\n",
              "      <th>2+1</th>\n",
              "      <td>9752</td>\n",
              "    </tr>\n",
              "    <tr>\n",
              "      <th>3+1</th>\n",
              "      <td>6868</td>\n",
              "    </tr>\n",
              "    <tr>\n",
              "      <th>1+1</th>\n",
              "      <td>2046</td>\n",
              "    </tr>\n",
              "    <tr>\n",
              "      <th>4+1</th>\n",
              "      <td>1687</td>\n",
              "    </tr>\n",
              "    <tr>\n",
              "      <th>4+2</th>\n",
              "      <td>1148</td>\n",
              "    </tr>\n",
              "    <tr>\n",
              "      <th>3+2</th>\n",
              "      <td>642</td>\n",
              "    </tr>\n",
              "    <tr>\n",
              "      <th>5+2</th>\n",
              "      <td>597</td>\n",
              "    </tr>\n",
              "    <tr>\n",
              "      <th>5+1</th>\n",
              "      <td>589</td>\n",
              "    </tr>\n",
              "    <tr>\n",
              "      <th>8+ Oda</th>\n",
              "      <td>324</td>\n",
              "    </tr>\n",
              "    <tr>\n",
              "      <th>Stüdyo</th>\n",
              "      <td>263</td>\n",
              "    </tr>\n",
              "    <tr>\n",
              "      <th>6+2</th>\n",
              "      <td>233</td>\n",
              "    </tr>\n",
              "    <tr>\n",
              "      <th>6+1</th>\n",
              "      <td>180</td>\n",
              "    </tr>\n",
              "    <tr>\n",
              "      <th>1 Oda</th>\n",
              "      <td>169</td>\n",
              "    </tr>\n",
              "    <tr>\n",
              "      <th>2+2</th>\n",
              "      <td>161</td>\n",
              "    </tr>\n",
              "    <tr>\n",
              "      <th>3.5+1</th>\n",
              "      <td>87</td>\n",
              "    </tr>\n",
              "    <tr>\n",
              "      <th>7+2</th>\n",
              "      <td>72</td>\n",
              "    </tr>\n",
              "    <tr>\n",
              "      <th>4.5+1</th>\n",
              "      <td>55</td>\n",
              "    </tr>\n",
              "    <tr>\n",
              "      <th>2.5+1</th>\n",
              "      <td>48</td>\n",
              "    </tr>\n",
              "    <tr>\n",
              "      <th>7+3</th>\n",
              "      <td>42</td>\n",
              "    </tr>\n",
              "    <tr>\n",
              "      <th>7+1</th>\n",
              "      <td>41</td>\n",
              "    </tr>\n",
              "    <tr>\n",
              "      <th>5+3</th>\n",
              "      <td>41</td>\n",
              "    </tr>\n",
              "    <tr>\n",
              "      <th>6+3</th>\n",
              "      <td>37</td>\n",
              "    </tr>\n",
              "    <tr>\n",
              "      <th>1.5+1</th>\n",
              "      <td>32</td>\n",
              "    </tr>\n",
              "    <tr>\n",
              "      <th>2+0</th>\n",
              "      <td>14</td>\n",
              "    </tr>\n",
              "    <tr>\n",
              "      <th>5 Oda</th>\n",
              "      <td>13</td>\n",
              "    </tr>\n",
              "    <tr>\n",
              "      <th>6+4</th>\n",
              "      <td>10</td>\n",
              "    </tr>\n",
              "    <tr>\n",
              "      <th>5+4</th>\n",
              "      <td>4</td>\n",
              "    </tr>\n",
              "  </tbody>\n",
              "</table>\n",
              "</div><br><label><b>dtype:</b> int64</label>"
            ]
          },
          "metadata": {},
          "execution_count": 431
        }
      ],
      "source": [
        "df[\"NumberOfRooms\"].value_counts().T"
      ]
    },
    {
      "cell_type": "code",
      "execution_count": 432,
      "metadata": {
        "id": "vyp-oe0ZkrO-"
      },
      "outputs": [],
      "source": [
        "df[\"NumberOfRooms\"] = df[\"NumberOfRooms\"].map({'3+1': 3,\n",
        "                                              '2+1': 2,\n",
        "                                              '8+ Oda': 8,\n",
        "                                              '3+2': 3,\n",
        "                                              '5+1': 5,\n",
        "                                              '5 Oda': 5,\n",
        "                                              '2+2': 2,\n",
        "                                              '7+3': 7,\n",
        "                                              '1+1': 1,\n",
        "                                              '5+3': 5,\n",
        "                                              '1 Oda': 1,\n",
        "                                              '6+1': 6,\n",
        "                                              '4+2': 4,\n",
        "                                              '5+2': 5,\n",
        "                                              '4+1': 4,\n",
        "                                              '6+2': 6,\n",
        "                                              '6+3': 6,\n",
        "                                              '2.5+1': 2.5,\n",
        "                                              'Stüdyo': 1,\n",
        "                                              '6+4': 6,\n",
        "                                              '7+1': 7,\n",
        "                                              '1.5+1': 1.5,\n",
        "                                              '2+0': 2,\n",
        "                                              '7+2': 7,\n",
        "                                              '3.5+1': 3.5,\n",
        "                                              '4.5+1': 4.5,\n",
        "                                              '5+4': 5\n",
        "                                              })"
      ]
    },
    {
      "cell_type": "code",
      "execution_count": 433,
      "metadata": {
        "colab": {
          "base_uri": "https://localhost:8080/"
        },
        "id": "f8FDVyJUiL1m",
        "outputId": "4e1ff350-5776-4aff-8b99-b6428be82a19"
      },
      "outputs": [
        {
          "output_type": "execute_result",
          "data": {
            "text/plain": [
              "array(['Krediye Uygun', 'Krediye Uygun Değil', 'Bilinmiyor'], dtype=object)"
            ]
          },
          "metadata": {},
          "execution_count": 433
        }
      ],
      "source": [
        "df[\"CreditEligibility\"].unique()"
      ]
    },
    {
      "cell_type": "code",
      "execution_count": 434,
      "metadata": {
        "colab": {
          "base_uri": "https://localhost:8080/",
          "height": 209
        },
        "id": "mUiErzq6lsae",
        "outputId": "e43328b4-8923-44cc-d8f3-f2ca3dd0685b"
      },
      "outputs": [
        {
          "output_type": "execute_result",
          "data": {
            "text/plain": [
              "CreditEligibility\n",
              "Krediye Uygun          22197\n",
              "Krediye Uygun Değil     2568\n",
              "Bilinmiyor               390\n",
              "Name: count, dtype: int64"
            ],
            "text/html": [
              "<div>\n",
              "<style scoped>\n",
              "    .dataframe tbody tr th:only-of-type {\n",
              "        vertical-align: middle;\n",
              "    }\n",
              "\n",
              "    .dataframe tbody tr th {\n",
              "        vertical-align: top;\n",
              "    }\n",
              "\n",
              "    .dataframe thead th {\n",
              "        text-align: right;\n",
              "    }\n",
              "</style>\n",
              "<table border=\"1\" class=\"dataframe\">\n",
              "  <thead>\n",
              "    <tr style=\"text-align: right;\">\n",
              "      <th></th>\n",
              "      <th>count</th>\n",
              "    </tr>\n",
              "    <tr>\n",
              "      <th>CreditEligibility</th>\n",
              "      <th></th>\n",
              "    </tr>\n",
              "  </thead>\n",
              "  <tbody>\n",
              "    <tr>\n",
              "      <th>Krediye Uygun</th>\n",
              "      <td>22197</td>\n",
              "    </tr>\n",
              "    <tr>\n",
              "      <th>Krediye Uygun Değil</th>\n",
              "      <td>2568</td>\n",
              "    </tr>\n",
              "    <tr>\n",
              "      <th>Bilinmiyor</th>\n",
              "      <td>390</td>\n",
              "    </tr>\n",
              "  </tbody>\n",
              "</table>\n",
              "</div><br><label><b>dtype:</b> int64</label>"
            ]
          },
          "metadata": {},
          "execution_count": 434
        }
      ],
      "source": [
        "df[\"CreditEligibility\"].value_counts()"
      ]
    },
    {
      "cell_type": "code",
      "execution_count": 435,
      "metadata": {
        "colab": {
          "base_uri": "https://localhost:8080/"
        },
        "id": "qVfjp-QXlvbF",
        "outputId": "7d07f7d6-035c-4761-e28d-4bfdeb9af6fc"
      },
      "outputs": [
        {
          "output_type": "execute_result",
          "data": {
            "text/plain": [
              "np.int64(0)"
            ]
          },
          "metadata": {},
          "execution_count": 435
        }
      ],
      "source": [
        "df[\"CreditEligibility\"].isnull().sum()"
      ]
    },
    {
      "cell_type": "code",
      "execution_count": 436,
      "metadata": {
        "id": "pTP-hsIolxYe"
      },
      "outputs": [],
      "source": [
        "df[\"CreditEligibility\"] = df[\"CreditEligibility\"].map({\"Bilinmiyor\": 0,\n",
        "                                                       \"Krediye Uygun Değil\": 0,\n",
        "                                                       \"Krediye Uygun\": 1})"
      ]
    },
    {
      "cell_type": "code",
      "execution_count": 437,
      "metadata": {
        "colab": {
          "base_uri": "https://localhost:8080/"
        },
        "id": "1S86xR9timW2",
        "outputId": "1edf4c46-b83a-4bff-faa1-81093f8acf35"
      },
      "outputs": [
        {
          "output_type": "execute_result",
          "data": {
            "text/plain": [
              "array(['Çatı Katı', 'Bahçe Katı', 'Düz Giriş', 'Bahçe Dublex',\n",
              "       'Villa Tipi', '1. Kat', 'Müstakil', '3. Kat', '2. Kat',\n",
              "       'Çatı Dubleks', 'Yüksek Giriş', '5. Kat', '4. Kat', '7. Kat',\n",
              "       'Kot 2 (-2). Kat', 'Kot 3 (-3). Kat', '8. Kat', '6. Kat',\n",
              "       'Kot 1 (-1). Kat', '10. Kat', '32. Kat', '13. Kat', '14. Kat',\n",
              "       '22. Kat', '16. Kat', '19. Kat', '9. Kat', '28. Kat', '15. Kat',\n",
              "       '30-40. Kat', '12. Kat', 'Tam Bodrum', '11. Kat', '23. Kat',\n",
              "       'Yarı Bodrum', '18. Kat', '33. Kat', '10-20. Kat', '21. Kat',\n",
              "       '17. Kat', '26. Kat', '27. Kat', '20. Kat', '29. Kat', '25. Kat',\n",
              "       '24. Kat', '31. Kat', 'Yüksek Bodrum', '20-30. Kat', '30. Kat',\n",
              "       '36. Kat', '38. Kat', '34. Kat', '40+. Kat', '35. Kat'],\n",
              "      dtype=object)"
            ]
          },
          "metadata": {},
          "execution_count": 437
        }
      ],
      "source": [
        "df[\"FloorLocation\"].unique()"
      ]
    },
    {
      "cell_type": "code",
      "execution_count": 438,
      "metadata": {
        "id": "On6_l-rdmKx-"
      },
      "outputs": [],
      "source": [
        "df[\"FloorLocation\"] = df[\"FloorLocation\"].map({'Çatı Katı': 6,\n",
        "                                                    'Bahçe Katı': 0,\n",
        "                                                    'Düz Giriş': 0,\n",
        "                                                    'Bahçe Dublex': 1,\n",
        "                                                    'Villa Tipi': 1,\n",
        "                                                    '1. Kat': 1,\n",
        "                                                    'Müstakil': 0,\n",
        "                                                    '2. Kat': 2,\n",
        "                                                    '3. Kat': 3,\n",
        "                                                    '4. Kat': 4,\n",
        "                                                    '5. Kat': 5,\n",
        "                                                    '6. Kat': 6,\n",
        "                                                    '7. Kat': 7,\n",
        "                                                    '8. Kat': 8,\n",
        "                                                    '9. Kat': 9,\n",
        "                                                    '10. Kat': 10,\n",
        "                                                    '11. Kat': 11,\n",
        "                                                    '12. Kat': 12,\n",
        "                                                    '13. Kat': 13,\n",
        "                                                    '14. Kat': 14,\n",
        "                                                    '15. Kat': 15,\n",
        "                                                    '16. Kat': 16,\n",
        "                                                    '17. Kat': 17,\n",
        "                                                    '18. Kat': 18,\n",
        "                                                    '19. Kat': 19,\n",
        "                                                    '20. Kat': 20,\n",
        "                                                    '21. Kat': 21,\n",
        "                                                    '22. Kat': 22,\n",
        "                                                    '23. Kat': 23,\n",
        "                                                    '24. Kat': 24,\n",
        "                                                    '25. Kat': 25,\n",
        "                                                    '26. Kat': 26,\n",
        "                                                    '27. Kat': 27,\n",
        "                                                    '28. Kat': 28,\n",
        "                                                    '29. Kat': 29,\n",
        "                                                    '30. Kat': 30,\n",
        "                                                    '31. Kat': 31,\n",
        "                                                    '32. Kat': 32,\n",
        "                                                    '33. Kat': 33,\n",
        "                                                    '34. Kat': 34,\n",
        "                                                    '35. Kat': 35,\n",
        "                                                    '36. Kat': 36,\n",
        "                                                    '38. Kat': 38,\n",
        "                                                    '40+. Kat': 40,\n",
        "                                                    '30-40. Kat': 35,\n",
        "                                                    '10-20. Kat': 15,\n",
        "                                                    'Tam Bodrum': -2,\n",
        "                                                    'Yarı Bodrum': -1,\n",
        "                                                    'Yüksek Bodrum': -0.5,\n",
        "                                                    'Kot 1 (-1). Kat': -1,\n",
        "                                                    'Kot 2 (-2). Kat': -2,\n",
        "                                                    'Kot 3 (-3). Kat': -3,\n",
        "                                                    'Yüksek Giriş': 0.5,\n",
        "                                                    'Çatı Dubleks': 7\n",
        "                                                       })"
      ]
    },
    {
      "cell_type": "code",
      "execution_count": 439,
      "metadata": {
        "colab": {
          "base_uri": "https://localhost:8080/",
          "height": 397
        },
        "id": "0BBBMj3smhnW",
        "outputId": "84b7bbd3-98f7-4f96-c7d1-4e7213e93785"
      },
      "outputs": [
        {
          "output_type": "execute_result",
          "data": {
            "text/plain": [
              "0     24 Şubat 2022\n",
              "1      02 Mart 2022\n",
              "2     11 Şubat 2022\n",
              "3     11 Şubat 2022\n",
              "4      19 Ocak 2022\n",
              "5      17 Ocak 2022\n",
              "6     27 Şubat 2022\n",
              "7     22 Şubat 2022\n",
              "8    16 Aralık 2021\n",
              "9    16 Aralık 2021\n",
              "Name: AdUpdateDate, dtype: object"
            ],
            "text/html": [
              "<div>\n",
              "<style scoped>\n",
              "    .dataframe tbody tr th:only-of-type {\n",
              "        vertical-align: middle;\n",
              "    }\n",
              "\n",
              "    .dataframe tbody tr th {\n",
              "        vertical-align: top;\n",
              "    }\n",
              "\n",
              "    .dataframe thead th {\n",
              "        text-align: right;\n",
              "    }\n",
              "</style>\n",
              "<table border=\"1\" class=\"dataframe\">\n",
              "  <thead>\n",
              "    <tr style=\"text-align: right;\">\n",
              "      <th></th>\n",
              "      <th>AdUpdateDate</th>\n",
              "    </tr>\n",
              "  </thead>\n",
              "  <tbody>\n",
              "    <tr>\n",
              "      <th>0</th>\n",
              "      <td>24 Şubat 2022</td>\n",
              "    </tr>\n",
              "    <tr>\n",
              "      <th>1</th>\n",
              "      <td>02 Mart 2022</td>\n",
              "    </tr>\n",
              "    <tr>\n",
              "      <th>2</th>\n",
              "      <td>11 Şubat 2022</td>\n",
              "    </tr>\n",
              "    <tr>\n",
              "      <th>3</th>\n",
              "      <td>11 Şubat 2022</td>\n",
              "    </tr>\n",
              "    <tr>\n",
              "      <th>4</th>\n",
              "      <td>19 Ocak 2022</td>\n",
              "    </tr>\n",
              "    <tr>\n",
              "      <th>5</th>\n",
              "      <td>17 Ocak 2022</td>\n",
              "    </tr>\n",
              "    <tr>\n",
              "      <th>6</th>\n",
              "      <td>27 Şubat 2022</td>\n",
              "    </tr>\n",
              "    <tr>\n",
              "      <th>7</th>\n",
              "      <td>22 Şubat 2022</td>\n",
              "    </tr>\n",
              "    <tr>\n",
              "      <th>8</th>\n",
              "      <td>16 Aralık 2021</td>\n",
              "    </tr>\n",
              "    <tr>\n",
              "      <th>9</th>\n",
              "      <td>16 Aralık 2021</td>\n",
              "    </tr>\n",
              "  </tbody>\n",
              "</table>\n",
              "</div><br><label><b>dtype:</b> object</label>"
            ]
          },
          "metadata": {},
          "execution_count": 439
        }
      ],
      "source": [
        "df[\"AdUpdateDate\"].head(10)"
      ]
    },
    {
      "cell_type": "code",
      "execution_count": 440,
      "metadata": {
        "id": "NJ3iWrjVm9cd"
      },
      "outputs": [],
      "source": [
        "df[\"AdUpdateDate\"] = df[\"AdUpdateDate\"].str[2:].str.strip()"
      ]
    },
    {
      "cell_type": "code",
      "execution_count": 441,
      "metadata": {
        "id": "Yb7c3mD2nRxN"
      },
      "outputs": [],
      "source": [
        "df[\"YearUpdated\"] = df[\"AdUpdateDate\"].str[-4:].astype(int)"
      ]
    },
    {
      "cell_type": "code",
      "execution_count": 442,
      "metadata": {
        "id": "ufnhiCiUneC1"
      },
      "outputs": [],
      "source": [
        "df[\"MonthUpdated\"] = df[\"AdUpdateDate\"].str[:-4].str.strip()\n",
        "\n",
        "df = df.drop(columns=\"AdUpdateDate\")"
      ]
    },
    {
      "cell_type": "code",
      "execution_count": 443,
      "metadata": {
        "colab": {
          "base_uri": "https://localhost:8080/"
        },
        "id": "HcnEle1Ln7Mt",
        "outputId": "a8b0f893-62f5-4afe-a4eb-8bab6d0bf3d5"
      },
      "outputs": [
        {
          "output_type": "stream",
          "name": "stdout",
          "text": [
            "[2022 2021]\n",
            "['Şubat' 'Mart' 'Ocak' 'Aralık' 'Kasım' 'Ekim' 'Eylül']\n"
          ]
        }
      ],
      "source": [
        "print(df[\"YearUpdated\"].unique())\n",
        "print(df[\"MonthUpdated\"].unique())"
      ]
    },
    {
      "cell_type": "code",
      "execution_count": 444,
      "metadata": {
        "id": "XTz-3zrPoLH2"
      },
      "outputs": [],
      "source": [
        "df[\"MonthUpdated\"] = df[\"MonthUpdated\"].map({\n",
        "    \"Ocak\": 1,\n",
        "    \"Şubat\": 2,\n",
        "    \"Mart\": 3,\n",
        "    \"Eylül\": 9,\n",
        "    \"Ekim\": 10,\n",
        "    \"Kasım\": 11,\n",
        "    \"Aralık\": 12,\n",
        "})"
      ]
    },
    {
      "cell_type": "code",
      "execution_count": 445,
      "metadata": {
        "colab": {
          "base_uri": "https://localhost:8080/",
          "height": 585
        },
        "id": "h3DCVLSCiX-2",
        "outputId": "2e9239ff-3f2f-4c0c-cf5d-b2f7ae721e92"
      },
      "outputs": [
        {
          "output_type": "execute_result",
          "data": {
            "text/plain": [
              "HeatingType\n",
              "Kombi Doğalgaz         17703\n",
              "Merkezi (Pay Ölçer)     4548\n",
              "Merkezi Doğalgaz        1493\n",
              "Yerden Isıtma            576\n",
              "Isıtma Yok               285\n",
              "Doğalgaz Sobalı          241\n",
              "Sobalı                   126\n",
              "Klimalı                   72\n",
              "Kat Kaloriferi            70\n",
              "Kombi Fueloil             15\n",
              "Güneş Enerjisi             8\n",
              "Jeotermal                  8\n",
              "Merkezi Fueloil            5\n",
              "Isı Pompası                3\n",
              "Kombi Katı Yakıt           2\n",
              "Name: count, dtype: int64"
            ],
            "text/html": [
              "<div>\n",
              "<style scoped>\n",
              "    .dataframe tbody tr th:only-of-type {\n",
              "        vertical-align: middle;\n",
              "    }\n",
              "\n",
              "    .dataframe tbody tr th {\n",
              "        vertical-align: top;\n",
              "    }\n",
              "\n",
              "    .dataframe thead th {\n",
              "        text-align: right;\n",
              "    }\n",
              "</style>\n",
              "<table border=\"1\" class=\"dataframe\">\n",
              "  <thead>\n",
              "    <tr style=\"text-align: right;\">\n",
              "      <th></th>\n",
              "      <th>count</th>\n",
              "    </tr>\n",
              "    <tr>\n",
              "      <th>HeatingType</th>\n",
              "      <th></th>\n",
              "    </tr>\n",
              "  </thead>\n",
              "  <tbody>\n",
              "    <tr>\n",
              "      <th>Kombi Doğalgaz</th>\n",
              "      <td>17703</td>\n",
              "    </tr>\n",
              "    <tr>\n",
              "      <th>Merkezi (Pay Ölçer)</th>\n",
              "      <td>4548</td>\n",
              "    </tr>\n",
              "    <tr>\n",
              "      <th>Merkezi Doğalgaz</th>\n",
              "      <td>1493</td>\n",
              "    </tr>\n",
              "    <tr>\n",
              "      <th>Yerden Isıtma</th>\n",
              "      <td>576</td>\n",
              "    </tr>\n",
              "    <tr>\n",
              "      <th>Isıtma Yok</th>\n",
              "      <td>285</td>\n",
              "    </tr>\n",
              "    <tr>\n",
              "      <th>Doğalgaz Sobalı</th>\n",
              "      <td>241</td>\n",
              "    </tr>\n",
              "    <tr>\n",
              "      <th>Sobalı</th>\n",
              "      <td>126</td>\n",
              "    </tr>\n",
              "    <tr>\n",
              "      <th>Klimalı</th>\n",
              "      <td>72</td>\n",
              "    </tr>\n",
              "    <tr>\n",
              "      <th>Kat Kaloriferi</th>\n",
              "      <td>70</td>\n",
              "    </tr>\n",
              "    <tr>\n",
              "      <th>Kombi Fueloil</th>\n",
              "      <td>15</td>\n",
              "    </tr>\n",
              "    <tr>\n",
              "      <th>Güneş Enerjisi</th>\n",
              "      <td>8</td>\n",
              "    </tr>\n",
              "    <tr>\n",
              "      <th>Jeotermal</th>\n",
              "      <td>8</td>\n",
              "    </tr>\n",
              "    <tr>\n",
              "      <th>Merkezi Fueloil</th>\n",
              "      <td>5</td>\n",
              "    </tr>\n",
              "    <tr>\n",
              "      <th>Isı Pompası</th>\n",
              "      <td>3</td>\n",
              "    </tr>\n",
              "    <tr>\n",
              "      <th>Kombi Katı Yakıt</th>\n",
              "      <td>2</td>\n",
              "    </tr>\n",
              "  </tbody>\n",
              "</table>\n",
              "</div><br><label><b>dtype:</b> int64</label>"
            ]
          },
          "metadata": {},
          "execution_count": 445
        }
      ],
      "source": [
        "df[\"HeatingType\"].value_counts()"
      ]
    },
    {
      "cell_type": "code",
      "execution_count": 446,
      "metadata": {
        "colab": {
          "base_uri": "https://localhost:8080/"
        },
        "id": "zlqxrA5-myXN",
        "outputId": "9949b464-3caf-4da4-a674-77f99a13f680"
      },
      "outputs": [
        {
          "output_type": "stream",
          "name": "stdout",
          "text": [
            "HeatingType\n",
            "Kombi Doğalgaz         17703\n",
            "Merkezi (Pay Ölçer)     4548\n",
            "Merkezi Doğalgaz        1493\n",
            "Yerden Isıtma            576\n",
            "Isıtma Yok               285\n",
            "Doğalgaz Sobalı          241\n",
            "Other                    183\n",
            "Sobalı                   126\n",
            "Name: count, dtype: int64\n"
          ]
        }
      ],
      "source": [
        "threshold = 100\n",
        "\n",
        "heating_counts = df['HeatingType'].value_counts()\n",
        "\n",
        "rare_heatings = heating_counts[heating_counts < threshold].index.tolist()\n",
        "\n",
        "df['HeatingType'] = df['HeatingType'].replace(rare_heatings, 'Other')\n",
        "\n",
        "print(df['HeatingType'].value_counts())"
      ]
    },
    {
      "cell_type": "code",
      "execution_count": 447,
      "metadata": {
        "colab": {
          "base_uri": "https://localhost:8080/",
          "height": 300
        },
        "id": "3GLaq4nVqdn3",
        "outputId": "d08770d4-78ad-4b19-e100-cd661d7487c0"
      },
      "outputs": [
        {
          "output_type": "execute_result",
          "data": {
            "text/plain": [
              "  district        price                                            address  \\\n",
              "0   adalar  3,100,000TL  ['Anasayfa', 'Satılık Daire', 'İstanbul Satılı...   \n",
              "1   adalar  1,600,000TL  ['Anasayfa', 'Satılık Daire', 'İstanbul Satılı...   \n",
              "\n",
              "  Category GrossSquareMeters  BuildingAge  NumberFloorsofBuilding  \\\n",
              "0  Satılık            160 m2            8                       3   \n",
              "1  Satılık            120 m2            5                       3   \n",
              "\n",
              "            UsingStatus  EligibilityForInvestment BuildStatus  ...  \\\n",
              "0  Mülk Sahibi Oturuyor                         0         NaN  ...   \n",
              "1  Mülk Sahibi Oturuyor                         1   İkinci El  ...   \n",
              "\n",
              "   FloorLocation     HeatingType CreditEligibility InsideTheSite  \\\n",
              "0            6.0  Kombi Doğalgaz                 1         Hayır   \n",
              "1            0.0  Kombi Doğalgaz                 1         Hayır   \n",
              "\n",
              "  StructureType Swap  Balcony  PriceStatus YearUpdated  MonthUpdated  \n",
              "0           NaN  Yok      NaN  Genel Fiyat        2022             2  \n",
              "1     Betonarme  Yok      1.0  Genel Fiyat        2022             3  \n",
              "\n",
              "[2 rows x 27 columns]"
            ],
            "text/html": [
              "\n",
              "  <div id=\"df-e3e9e8cf-6294-4ef7-84c1-54bf31efa57e\" class=\"colab-df-container\">\n",
              "    <div>\n",
              "<style scoped>\n",
              "    .dataframe tbody tr th:only-of-type {\n",
              "        vertical-align: middle;\n",
              "    }\n",
              "\n",
              "    .dataframe tbody tr th {\n",
              "        vertical-align: top;\n",
              "    }\n",
              "\n",
              "    .dataframe thead th {\n",
              "        text-align: right;\n",
              "    }\n",
              "</style>\n",
              "<table border=\"1\" class=\"dataframe\">\n",
              "  <thead>\n",
              "    <tr style=\"text-align: right;\">\n",
              "      <th></th>\n",
              "      <th>district</th>\n",
              "      <th>price</th>\n",
              "      <th>address</th>\n",
              "      <th>Category</th>\n",
              "      <th>GrossSquareMeters</th>\n",
              "      <th>BuildingAge</th>\n",
              "      <th>NumberFloorsofBuilding</th>\n",
              "      <th>UsingStatus</th>\n",
              "      <th>EligibilityForInvestment</th>\n",
              "      <th>BuildStatus</th>\n",
              "      <th>...</th>\n",
              "      <th>FloorLocation</th>\n",
              "      <th>HeatingType</th>\n",
              "      <th>CreditEligibility</th>\n",
              "      <th>InsideTheSite</th>\n",
              "      <th>StructureType</th>\n",
              "      <th>Swap</th>\n",
              "      <th>Balcony</th>\n",
              "      <th>PriceStatus</th>\n",
              "      <th>YearUpdated</th>\n",
              "      <th>MonthUpdated</th>\n",
              "    </tr>\n",
              "  </thead>\n",
              "  <tbody>\n",
              "    <tr>\n",
              "      <th>0</th>\n",
              "      <td>adalar</td>\n",
              "      <td>3,100,000TL</td>\n",
              "      <td>['Anasayfa', 'Satılık Daire', 'İstanbul Satılı...</td>\n",
              "      <td>Satılık</td>\n",
              "      <td>160 m2</td>\n",
              "      <td>8</td>\n",
              "      <td>3</td>\n",
              "      <td>Mülk Sahibi Oturuyor</td>\n",
              "      <td>0</td>\n",
              "      <td>NaN</td>\n",
              "      <td>...</td>\n",
              "      <td>6.0</td>\n",
              "      <td>Kombi Doğalgaz</td>\n",
              "      <td>1</td>\n",
              "      <td>Hayır</td>\n",
              "      <td>NaN</td>\n",
              "      <td>Yok</td>\n",
              "      <td>NaN</td>\n",
              "      <td>Genel Fiyat</td>\n",
              "      <td>2022</td>\n",
              "      <td>2</td>\n",
              "    </tr>\n",
              "    <tr>\n",
              "      <th>1</th>\n",
              "      <td>adalar</td>\n",
              "      <td>1,600,000TL</td>\n",
              "      <td>['Anasayfa', 'Satılık Daire', 'İstanbul Satılı...</td>\n",
              "      <td>Satılık</td>\n",
              "      <td>120 m2</td>\n",
              "      <td>5</td>\n",
              "      <td>3</td>\n",
              "      <td>Mülk Sahibi Oturuyor</td>\n",
              "      <td>1</td>\n",
              "      <td>İkinci El</td>\n",
              "      <td>...</td>\n",
              "      <td>0.0</td>\n",
              "      <td>Kombi Doğalgaz</td>\n",
              "      <td>1</td>\n",
              "      <td>Hayır</td>\n",
              "      <td>Betonarme</td>\n",
              "      <td>Yok</td>\n",
              "      <td>1.0</td>\n",
              "      <td>Genel Fiyat</td>\n",
              "      <td>2022</td>\n",
              "      <td>3</td>\n",
              "    </tr>\n",
              "  </tbody>\n",
              "</table>\n",
              "<p>2 rows × 27 columns</p>\n",
              "</div>\n",
              "    <div class=\"colab-df-buttons\">\n",
              "\n",
              "  <div class=\"colab-df-container\">\n",
              "    <button class=\"colab-df-convert\" onclick=\"convertToInteractive('df-e3e9e8cf-6294-4ef7-84c1-54bf31efa57e')\"\n",
              "            title=\"Convert this dataframe to an interactive table.\"\n",
              "            style=\"display:none;\">\n",
              "\n",
              "  <svg xmlns=\"http://www.w3.org/2000/svg\" height=\"24px\" viewBox=\"0 -960 960 960\">\n",
              "    <path d=\"M120-120v-720h720v720H120Zm60-500h600v-160H180v160Zm220 220h160v-160H400v160Zm0 220h160v-160H400v160ZM180-400h160v-160H180v160Zm440 0h160v-160H620v160ZM180-180h160v-160H180v160Zm440 0h160v-160H620v160Z\"/>\n",
              "  </svg>\n",
              "    </button>\n",
              "\n",
              "  <style>\n",
              "    .colab-df-container {\n",
              "      display:flex;\n",
              "      gap: 12px;\n",
              "    }\n",
              "\n",
              "    .colab-df-convert {\n",
              "      background-color: #E8F0FE;\n",
              "      border: none;\n",
              "      border-radius: 50%;\n",
              "      cursor: pointer;\n",
              "      display: none;\n",
              "      fill: #1967D2;\n",
              "      height: 32px;\n",
              "      padding: 0 0 0 0;\n",
              "      width: 32px;\n",
              "    }\n",
              "\n",
              "    .colab-df-convert:hover {\n",
              "      background-color: #E2EBFA;\n",
              "      box-shadow: 0px 1px 2px rgba(60, 64, 67, 0.3), 0px 1px 3px 1px rgba(60, 64, 67, 0.15);\n",
              "      fill: #174EA6;\n",
              "    }\n",
              "\n",
              "    .colab-df-buttons div {\n",
              "      margin-bottom: 4px;\n",
              "    }\n",
              "\n",
              "    [theme=dark] .colab-df-convert {\n",
              "      background-color: #3B4455;\n",
              "      fill: #D2E3FC;\n",
              "    }\n",
              "\n",
              "    [theme=dark] .colab-df-convert:hover {\n",
              "      background-color: #434B5C;\n",
              "      box-shadow: 0px 1px 3px 1px rgba(0, 0, 0, 0.15);\n",
              "      filter: drop-shadow(0px 1px 2px rgba(0, 0, 0, 0.3));\n",
              "      fill: #FFFFFF;\n",
              "    }\n",
              "  </style>\n",
              "\n",
              "    <script>\n",
              "      const buttonEl =\n",
              "        document.querySelector('#df-e3e9e8cf-6294-4ef7-84c1-54bf31efa57e button.colab-df-convert');\n",
              "      buttonEl.style.display =\n",
              "        google.colab.kernel.accessAllowed ? 'block' : 'none';\n",
              "\n",
              "      async function convertToInteractive(key) {\n",
              "        const element = document.querySelector('#df-e3e9e8cf-6294-4ef7-84c1-54bf31efa57e');\n",
              "        const dataTable =\n",
              "          await google.colab.kernel.invokeFunction('convertToInteractive',\n",
              "                                                    [key], {});\n",
              "        if (!dataTable) return;\n",
              "\n",
              "        const docLinkHtml = 'Like what you see? Visit the ' +\n",
              "          '<a target=\"_blank\" href=https://colab.research.google.com/notebooks/data_table.ipynb>data table notebook</a>'\n",
              "          + ' to learn more about interactive tables.';\n",
              "        element.innerHTML = '';\n",
              "        dataTable['output_type'] = 'display_data';\n",
              "        await google.colab.output.renderOutput(dataTable, element);\n",
              "        const docLink = document.createElement('div');\n",
              "        docLink.innerHTML = docLinkHtml;\n",
              "        element.appendChild(docLink);\n",
              "      }\n",
              "    </script>\n",
              "  </div>\n",
              "\n",
              "\n",
              "    <div id=\"df-d1d8bd02-5daf-4e4d-8a89-69f2eb93c0c3\">\n",
              "      <button class=\"colab-df-quickchart\" onclick=\"quickchart('df-d1d8bd02-5daf-4e4d-8a89-69f2eb93c0c3')\"\n",
              "                title=\"Suggest charts\"\n",
              "                style=\"display:none;\">\n",
              "\n",
              "<svg xmlns=\"http://www.w3.org/2000/svg\" height=\"24px\"viewBox=\"0 0 24 24\"\n",
              "     width=\"24px\">\n",
              "    <g>\n",
              "        <path d=\"M19 3H5c-1.1 0-2 .9-2 2v14c0 1.1.9 2 2 2h14c1.1 0 2-.9 2-2V5c0-1.1-.9-2-2-2zM9 17H7v-7h2v7zm4 0h-2V7h2v10zm4 0h-2v-4h2v4z\"/>\n",
              "    </g>\n",
              "</svg>\n",
              "      </button>\n",
              "\n",
              "<style>\n",
              "  .colab-df-quickchart {\n",
              "      --bg-color: #E8F0FE;\n",
              "      --fill-color: #1967D2;\n",
              "      --hover-bg-color: #E2EBFA;\n",
              "      --hover-fill-color: #174EA6;\n",
              "      --disabled-fill-color: #AAA;\n",
              "      --disabled-bg-color: #DDD;\n",
              "  }\n",
              "\n",
              "  [theme=dark] .colab-df-quickchart {\n",
              "      --bg-color: #3B4455;\n",
              "      --fill-color: #D2E3FC;\n",
              "      --hover-bg-color: #434B5C;\n",
              "      --hover-fill-color: #FFFFFF;\n",
              "      --disabled-bg-color: #3B4455;\n",
              "      --disabled-fill-color: #666;\n",
              "  }\n",
              "\n",
              "  .colab-df-quickchart {\n",
              "    background-color: var(--bg-color);\n",
              "    border: none;\n",
              "    border-radius: 50%;\n",
              "    cursor: pointer;\n",
              "    display: none;\n",
              "    fill: var(--fill-color);\n",
              "    height: 32px;\n",
              "    padding: 0;\n",
              "    width: 32px;\n",
              "  }\n",
              "\n",
              "  .colab-df-quickchart:hover {\n",
              "    background-color: var(--hover-bg-color);\n",
              "    box-shadow: 0 1px 2px rgba(60, 64, 67, 0.3), 0 1px 3px 1px rgba(60, 64, 67, 0.15);\n",
              "    fill: var(--button-hover-fill-color);\n",
              "  }\n",
              "\n",
              "  .colab-df-quickchart-complete:disabled,\n",
              "  .colab-df-quickchart-complete:disabled:hover {\n",
              "    background-color: var(--disabled-bg-color);\n",
              "    fill: var(--disabled-fill-color);\n",
              "    box-shadow: none;\n",
              "  }\n",
              "\n",
              "  .colab-df-spinner {\n",
              "    border: 2px solid var(--fill-color);\n",
              "    border-color: transparent;\n",
              "    border-bottom-color: var(--fill-color);\n",
              "    animation:\n",
              "      spin 1s steps(1) infinite;\n",
              "  }\n",
              "\n",
              "  @keyframes spin {\n",
              "    0% {\n",
              "      border-color: transparent;\n",
              "      border-bottom-color: var(--fill-color);\n",
              "      border-left-color: var(--fill-color);\n",
              "    }\n",
              "    20% {\n",
              "      border-color: transparent;\n",
              "      border-left-color: var(--fill-color);\n",
              "      border-top-color: var(--fill-color);\n",
              "    }\n",
              "    30% {\n",
              "      border-color: transparent;\n",
              "      border-left-color: var(--fill-color);\n",
              "      border-top-color: var(--fill-color);\n",
              "      border-right-color: var(--fill-color);\n",
              "    }\n",
              "    40% {\n",
              "      border-color: transparent;\n",
              "      border-right-color: var(--fill-color);\n",
              "      border-top-color: var(--fill-color);\n",
              "    }\n",
              "    60% {\n",
              "      border-color: transparent;\n",
              "      border-right-color: var(--fill-color);\n",
              "    }\n",
              "    80% {\n",
              "      border-color: transparent;\n",
              "      border-right-color: var(--fill-color);\n",
              "      border-bottom-color: var(--fill-color);\n",
              "    }\n",
              "    90% {\n",
              "      border-color: transparent;\n",
              "      border-bottom-color: var(--fill-color);\n",
              "    }\n",
              "  }\n",
              "</style>\n",
              "\n",
              "      <script>\n",
              "        async function quickchart(key) {\n",
              "          const quickchartButtonEl =\n",
              "            document.querySelector('#' + key + ' button');\n",
              "          quickchartButtonEl.disabled = true;  // To prevent multiple clicks.\n",
              "          quickchartButtonEl.classList.add('colab-df-spinner');\n",
              "          try {\n",
              "            const charts = await google.colab.kernel.invokeFunction(\n",
              "                'suggestCharts', [key], {});\n",
              "          } catch (error) {\n",
              "            console.error('Error during call to suggestCharts:', error);\n",
              "          }\n",
              "          quickchartButtonEl.classList.remove('colab-df-spinner');\n",
              "          quickchartButtonEl.classList.add('colab-df-quickchart-complete');\n",
              "        }\n",
              "        (() => {\n",
              "          let quickchartButtonEl =\n",
              "            document.querySelector('#df-d1d8bd02-5daf-4e4d-8a89-69f2eb93c0c3 button');\n",
              "          quickchartButtonEl.style.display =\n",
              "            google.colab.kernel.accessAllowed ? 'block' : 'none';\n",
              "        })();\n",
              "      </script>\n",
              "    </div>\n",
              "\n",
              "    </div>\n",
              "  </div>\n"
            ],
            "application/vnd.google.colaboratory.intrinsic+json": {
              "type": "dataframe",
              "variable_name": "df"
            }
          },
          "metadata": {},
          "execution_count": 447
        }
      ],
      "source": [
        "df.head(2)"
      ]
    },
    {
      "cell_type": "code",
      "execution_count": 448,
      "metadata": {
        "colab": {
          "base_uri": "https://localhost:8080/"
        },
        "id": "ZS4jckNKq8AH",
        "outputId": "5670c6e8-e328-4f51-dda4-c2c8e9e8839c"
      },
      "outputs": [
        {
          "output_type": "stream",
          "name": "stdout",
          "text": [
            "['2' '1' '3' '4' '5' 'Yok' '6+']\n",
            "0\n"
          ]
        }
      ],
      "source": [
        "print(df[\"NumberOfBathrooms\"].unique())\n",
        "print(df[\"NumberOfBathrooms\"].isnull().sum())"
      ]
    },
    {
      "cell_type": "code",
      "execution_count": 449,
      "metadata": {
        "id": "EIK4fofvrabO"
      },
      "outputs": [],
      "source": [
        "df[\"NumberOfBathrooms\"] = df[\"NumberOfBathrooms\"].replace({\"Yok\": \"0\",\n",
        "                                                           \"6+\": \"6\"}).astype(int)"
      ]
    },
    {
      "cell_type": "code",
      "execution_count": 450,
      "metadata": {
        "colab": {
          "base_uri": "https://localhost:8080/"
        },
        "id": "Mu9Mqllfr1DV",
        "outputId": "7b0f3b25-ec04-41fb-9ab3-787cf9bbdc3b"
      },
      "outputs": [
        {
          "output_type": "stream",
          "name": "stdout",
          "text": [
            "0    120 m2\n",
            "1    100 m2\n",
            "2    300 m2\n",
            "3    540 m2\n",
            "4    700 m2\n",
            "Name: NetSquareMeters, dtype: object\n",
            "0    160 m2\n",
            "1    120 m2\n",
            "2    350 m2\n",
            "3    550 m2\n",
            "4    840 m2\n",
            "Name: GrossSquareMeters, dtype: object\n"
          ]
        }
      ],
      "source": [
        "print(df[\"NetSquareMeters\"].head())\n",
        "print(df[\"GrossSquareMeters\"].head())"
      ]
    },
    {
      "cell_type": "code",
      "execution_count": 451,
      "metadata": {
        "id": "Y3mmiRTUsKC9"
      },
      "outputs": [],
      "source": [
        "df[\"NetSquareMeters\"] = df[\"NetSquareMeters\"].str[:-3]\n",
        "df[\"NetSquareMeters\"] = df[\"NetSquareMeters\"].replace(\".\", '', regex=False) # Use regex=False for exact match\n",
        "df[\"NetSquareMeters\"] = df[\"NetSquareMeters\"].astype(float)\n",
        "\n",
        "df[\"GrossSquareMeters\"] = df[\"GrossSquareMeters\"].str[:-3]\n",
        "df[\"GrossSquareMeters\"] = df[\"GrossSquareMeters\"].replace(\".\", '', regex=False)\n",
        "df[\"GrossSquareMeters\"] = df[\"GrossSquareMeters\"].astype(float)"
      ]
    },
    {
      "cell_type": "code",
      "execution_count": 452,
      "metadata": {
        "id": "eC2vpt6gp9Mu"
      },
      "outputs": [],
      "source": [
        "from sklearn.preprocessing import LabelEncoder\n",
        "le = LabelEncoder()\n",
        "\n",
        "df['HeatingType'] = le.fit_transform(df['HeatingType'])\n",
        "df[\"district\"] = le.fit_transform(df[\"district\"])\n",
        "df[\"InsideTheSite\"] = le.fit_transform(df[\"InsideTheSite\"])\n",
        "df[\"UsingStatus\"] = le.fit_transform(df[\"UsingStatus\"])"
      ]
    },
    {
      "cell_type": "code",
      "execution_count": 453,
      "metadata": {
        "id": "DM3Ptl4yqHJl"
      },
      "outputs": [],
      "source": [
        "df = df.drop(columns=[\"Category\", \"AdCreationDate\", \"PriceStatus\", \"Type\"])"
      ]
    },
    {
      "cell_type": "markdown",
      "metadata": {
        "id": "2lGw5lyCo-3V"
      },
      "source": [
        "### Data Visualizations"
      ]
    },
    {
      "cell_type": "code",
      "execution_count": 454,
      "metadata": {
        "colab": {
          "base_uri": "https://localhost:8080/"
        },
        "id": "g_Ltr3qzpezV",
        "outputId": "053bb61c-a603-4963-c96d-4c82e34498b5"
      },
      "outputs": [
        {
          "output_type": "stream",
          "name": "stdout",
          "text": [
            "1,000,000TL\n",
            "999,999TL\n",
            "2825\n"
          ]
        }
      ],
      "source": [
        "print(df[\"price\"].min())\n",
        "print(df[\"price\"].max())\n",
        "print(df[\"price\"].nunique())"
      ]
    },
    {
      "cell_type": "code",
      "execution_count": 455,
      "metadata": {
        "colab": {
          "base_uri": "https://localhost:8080/",
          "height": 241
        },
        "id": "RD919I-VhMH1",
        "outputId": "e9b15d4b-d1f6-4144-8936-373bf2114fda"
      },
      "outputs": [
        {
          "output_type": "execute_result",
          "data": {
            "text/plain": [
              "0     3,100,000TL\n",
              "1     1,600,000TL\n",
              "2    18,500,000TL\n",
              "3     9,500,000TL\n",
              "4    25,000,000TL\n",
              "Name: price, dtype: object"
            ],
            "text/html": [
              "<div>\n",
              "<style scoped>\n",
              "    .dataframe tbody tr th:only-of-type {\n",
              "        vertical-align: middle;\n",
              "    }\n",
              "\n",
              "    .dataframe tbody tr th {\n",
              "        vertical-align: top;\n",
              "    }\n",
              "\n",
              "    .dataframe thead th {\n",
              "        text-align: right;\n",
              "    }\n",
              "</style>\n",
              "<table border=\"1\" class=\"dataframe\">\n",
              "  <thead>\n",
              "    <tr style=\"text-align: right;\">\n",
              "      <th></th>\n",
              "      <th>price</th>\n",
              "    </tr>\n",
              "  </thead>\n",
              "  <tbody>\n",
              "    <tr>\n",
              "      <th>0</th>\n",
              "      <td>3,100,000TL</td>\n",
              "    </tr>\n",
              "    <tr>\n",
              "      <th>1</th>\n",
              "      <td>1,600,000TL</td>\n",
              "    </tr>\n",
              "    <tr>\n",
              "      <th>2</th>\n",
              "      <td>18,500,000TL</td>\n",
              "    </tr>\n",
              "    <tr>\n",
              "      <th>3</th>\n",
              "      <td>9,500,000TL</td>\n",
              "    </tr>\n",
              "    <tr>\n",
              "      <th>4</th>\n",
              "      <td>25,000,000TL</td>\n",
              "    </tr>\n",
              "  </tbody>\n",
              "</table>\n",
              "</div><br><label><b>dtype:</b> object</label>"
            ]
          },
          "metadata": {},
          "execution_count": 455
        }
      ],
      "source": [
        "df[\"price\"].head()"
      ]
    },
    {
      "cell_type": "code",
      "execution_count": 456,
      "metadata": {
        "colab": {
          "base_uri": "https://localhost:8080/"
        },
        "id": "w2SGmX_-puO9",
        "outputId": "496162ac-5f85-4d6c-b35e-c65e86c38e2c"
      },
      "outputs": [
        {
          "output_type": "execute_result",
          "data": {
            "text/plain": [
              "dtype('O')"
            ]
          },
          "metadata": {},
          "execution_count": 456
        }
      ],
      "source": [
        "df[\"price\"].dtype"
      ]
    },
    {
      "cell_type": "code",
      "execution_count": 457,
      "metadata": {
        "id": "yHMlQyU6px3t"
      },
      "outputs": [],
      "source": [
        "df[\"price\"] = df[\"price\"].str[:-2].str.strip()"
      ]
    },
    {
      "cell_type": "code",
      "execution_count": 458,
      "metadata": {
        "id": "KXGxPdOWqCa1"
      },
      "outputs": [],
      "source": [
        "df['price'] = df['price'].str.replace(r'[,\\%\\sarrow_downwardTL]+', '', regex=True).astype(float)"
      ]
    },
    {
      "cell_type": "code",
      "execution_count": 459,
      "metadata": {
        "colab": {
          "base_uri": "https://localhost:8080/",
          "height": 241
        },
        "id": "PGsRDTPhqAQ1",
        "outputId": "01ff6c7c-b5cb-438e-bfb3-617eb7eee89d"
      },
      "outputs": [
        {
          "output_type": "execute_result",
          "data": {
            "text/plain": [
              "0     3100000.0\n",
              "1     1600000.0\n",
              "2    18500000.0\n",
              "3     9500000.0\n",
              "4    25000000.0\n",
              "Name: price, dtype: float64"
            ],
            "text/html": [
              "<div>\n",
              "<style scoped>\n",
              "    .dataframe tbody tr th:only-of-type {\n",
              "        vertical-align: middle;\n",
              "    }\n",
              "\n",
              "    .dataframe tbody tr th {\n",
              "        vertical-align: top;\n",
              "    }\n",
              "\n",
              "    .dataframe thead th {\n",
              "        text-align: right;\n",
              "    }\n",
              "</style>\n",
              "<table border=\"1\" class=\"dataframe\">\n",
              "  <thead>\n",
              "    <tr style=\"text-align: right;\">\n",
              "      <th></th>\n",
              "      <th>price</th>\n",
              "    </tr>\n",
              "  </thead>\n",
              "  <tbody>\n",
              "    <tr>\n",
              "      <th>0</th>\n",
              "      <td>3100000.0</td>\n",
              "    </tr>\n",
              "    <tr>\n",
              "      <th>1</th>\n",
              "      <td>1600000.0</td>\n",
              "    </tr>\n",
              "    <tr>\n",
              "      <th>2</th>\n",
              "      <td>18500000.0</td>\n",
              "    </tr>\n",
              "    <tr>\n",
              "      <th>3</th>\n",
              "      <td>9500000.0</td>\n",
              "    </tr>\n",
              "    <tr>\n",
              "      <th>4</th>\n",
              "      <td>25000000.0</td>\n",
              "    </tr>\n",
              "  </tbody>\n",
              "</table>\n",
              "</div><br><label><b>dtype:</b> float64</label>"
            ]
          },
          "metadata": {},
          "execution_count": 459
        }
      ],
      "source": [
        "df[\"price\"].head()"
      ]
    },
    {
      "cell_type": "code",
      "execution_count": 460,
      "metadata": {
        "colab": {
          "base_uri": "https://localhost:8080/",
          "height": 1000
        },
        "id": "4WTVh312pBCV",
        "outputId": "587f381a-1b51-4675-f39d-eed2ad55dd7c"
      },
      "outputs": [
        {
          "output_type": "display_data",
          "data": {
            "text/plain": [
              "<Figure size 1000x1000 with 1 Axes>"
            ],
            "image/png": "[encoded data removed]"
          },
          "metadata": {}
        }
      ],
      "source": [
        "import matplotlib.pyplot as plt\n",
        "\n",
        "df['price_bin'] = (df['price'] // 10000000) * 10000000\n",
        "\n",
        "bin_counts = df['price_bin'].value_counts().sort_index()\n",
        "\n",
        "plt.figure(figsize=(10, 10))\n",
        "plt.barh(bin_counts.index.astype(str), bin_counts.values, color='skyblue', edgecolor='black')\n",
        "plt.title('Price Distribution (per 10M TL)')\n",
        "plt.xlabel('Price Range Start (TL)')\n",
        "plt.ylabel('Frequency')\n",
        "plt.xticks(rotation=50)\n",
        "plt.grid(True, axis='y', linestyle='--', alpha=0.7)\n",
        "plt.tight_layout()\n",
        "plt.show()\n",
        "\n",
        "df = df.drop(columns=\"price_bin\")"
      ]
    },
    {
      "cell_type": "markdown",
      "source": [
        "Seems really unequally distributed."
      ],
      "metadata": {
        "id": "sl9M_UjFpbYR"
      }
    },
    {
      "cell_type": "code",
      "source": [
        "df['price'] = np.log1p(df['price'])"
      ],
      "metadata": {
        "id": "7hnreXUBvlQn"
      },
      "execution_count": 461,
      "outputs": []
    },
    {
      "cell_type": "code",
      "source": [
        "import seaborn as sns\n",
        "\n",
        "# Boxplot çizimi\n",
        "plt.figure(figsize=(10, 2))\n",
        "sns.boxplot(x=df['price'], color=\"skyblue\")\n",
        "plt.title(\"Outlier Analysis\")\n",
        "plt.show()"
      ],
      "metadata": {
        "colab": {
          "base_uri": "https://localhost:8080/",
          "height": 256
        },
        "id": "sczVqi4ipfkb",
        "outputId": "0408cb1e-88f1-447f-926a-57b0513955fe"
      },
      "execution_count": 462,
      "outputs": [
        {
          "output_type": "display_data",
          "data": {
            "text/plain": [
              "<Figure size 1000x200 with 1 Axes>"
            ],
            "image/png": "[encoded data removed]"
          },
          "metadata": {}
        }
      ]
    },
    {
      "cell_type": "markdown",
      "source": [
        "There are a lot of outliers, let's handle them with logarithmic clipping."
      ],
      "metadata": {
        "id": "RMY8SENIp4WR"
      }
    },
    {
      "cell_type": "code",
      "execution_count": 463,
      "metadata": {
        "colab": {
          "base_uri": "https://localhost:8080/",
          "height": 564
        },
        "id": "4LlS1sTspZTW",
        "outputId": "499d189f-99c8-475b-c718-f52b152688b5"
      },
      "outputs": [
        {
          "output_type": "display_data",
          "data": {
            "text/plain": [
              "<Figure size 800x600 with 1 Axes>"
            ],
            "image/png": "[encoded data removed]"
          },
          "metadata": {}
        }
      ],
      "source": [
        "plt.figure(figsize=(8, 6))\n",
        "plt.hist(df['BuildingAge'], bins=20, color='lightgreen', edgecolor='black')\n",
        "plt.title('Building Age Distribution')\n",
        "plt.xlabel('Building Age')\n",
        "plt.ylabel('Frequency')\n",
        "plt.show()"
      ]
    },
    {
      "cell_type": "code",
      "execution_count": 464,
      "metadata": {
        "colab": {
          "base_uri": "https://localhost:8080/",
          "height": 564
        },
        "id": "6zoc7HDRpcGu",
        "outputId": "1bac76f6-7eb3-4295-ffa0-c4c837b1eb3e"
      },
      "outputs": [
        {
          "output_type": "display_data",
          "data": {
            "text/plain": [
              "<Figure size 800x600 with 1 Axes>"
            ],
            "image/png": "[encoded data removed]"
          },
          "metadata": {}
        }
      ],
      "source": [
        "plt.figure(figsize=(8, 6))\n",
        "plt.hist(df['FloorLocation'], bins=20, color='lightcoral', edgecolor='black')\n",
        "plt.title('Floor Location Distribution')\n",
        "plt.xlabel('Floor Location')\n",
        "plt.ylabel('Frequency')\n",
        "plt.show()"
      ]
    },
    {
      "cell_type": "code",
      "execution_count": 465,
      "metadata": {
        "colab": {
          "base_uri": "https://localhost:8080/"
        },
        "id": "ejEeYfptjaQ4",
        "outputId": "db727491-d04f-4a5b-f38c-e7a1bc819395"
      },
      "outputs": [
        {
          "output_type": "stream",
          "name": "stdout",
          "text": [
            "BuildStatus\n",
            "İkinci El           6409\n",
            "Sıfır               4585\n",
            "Yapım Aşamasında     237\n",
            "Name: count, dtype: int64\n",
            "Null: 13924\n"
          ]
        }
      ],
      "source": [
        "print(df[\"BuildStatus\"].value_counts())\n",
        "print(\"Null:\", df[\"BuildStatus\"].isnull().sum())"
      ]
    },
    {
      "cell_type": "code",
      "source": [
        "df = df.drop(columns = \"BuildStatus\")"
      ],
      "metadata": {
        "id": "_7DF4bbxE7B3"
      },
      "execution_count": 466,
      "outputs": []
    },
    {
      "cell_type": "markdown",
      "metadata": {
        "id": "2FTrxA9YjsP8"
      },
      "source": [
        "Almost half of the dataset and is still null, let's just drop them."
      ]
    },
    {
      "cell_type": "markdown",
      "metadata": {
        "id": "vAwF7Gi-lo5O"
      },
      "source": [
        "Let's continue our data preprocessing."
      ]
    },
    {
      "cell_type": "code",
      "execution_count": 467,
      "metadata": {
        "colab": {
          "base_uri": "https://localhost:8080/"
        },
        "id": "gg8Yrl9rmYAd",
        "outputId": "e4d506ee-97a4-49e3-b600-fb35b457e5cd"
      },
      "outputs": [
        {
          "output_type": "stream",
          "name": "stdout",
          "text": [
            "StructureType\n",
            "Betonarme    10214\n",
            "Ahşap           59\n",
            "Kagir           46\n",
            "Çelik           34\n",
            "Taş Bina        32\n",
            "Yığma           16\n",
            "Prefabrik        4\n",
            "Kütük            1\n",
            "Name: count, dtype: int64\n",
            "Null: 14749\n"
          ]
        }
      ],
      "source": [
        "print(df[\"StructureType\"].value_counts())\n",
        "print(\"Null:\", df[\"StructureType\"].isnull().sum())"
      ]
    },
    {
      "cell_type": "code",
      "execution_count": 468,
      "metadata": {
        "id": "Y64ok4MwnKmJ"
      },
      "outputs": [],
      "source": [
        "df[\"StructureType\"] = df[\"StructureType\"].map({\"Betonarme\": 0,\n",
        "                                               \"Ahşap\": 1,\n",
        "                                               \"Kagir\": 1,\n",
        "                                               \"Çelik\": 1,\n",
        "                                               \"Taş Bina\": 1,\n",
        "                                               \"Yığma\": 1,\n",
        "                                               \"Prefabrik\": 1,\n",
        "                                               \"Kütük\": 1,\n",
        "                                               np.nan : 0,\n",
        "                                               })"
      ]
    },
    {
      "cell_type": "code",
      "execution_count": 469,
      "metadata": {
        "colab": {
          "base_uri": "https://localhost:8080/"
        },
        "id": "YIDVPBn7kCcG",
        "outputId": "2eb38ece-5553-42af-d36d-537dc52c1cde"
      },
      "outputs": [
        {
          "output_type": "stream",
          "name": "stdout",
          "text": [
            "ItemStatus\n",
            "Boş       17491\n",
            "Eşyalı      841\n",
            "Name: count, dtype: int64\n",
            "Null: 6823\n"
          ]
        }
      ],
      "source": [
        "print(df[\"ItemStatus\"].value_counts())\n",
        "print(\"Null:\", df[\"ItemStatus\"].isnull().sum())"
      ]
    },
    {
      "cell_type": "code",
      "execution_count": 470,
      "metadata": {
        "id": "fnpd6vBznse3"
      },
      "outputs": [],
      "source": [
        "df[\"ItemStatus\"] = df[\"ItemStatus\"].map({\"Boş\": 0,\n",
        "                                         \"Eşyalı\": 1,\n",
        "                                         np.nan: 0})"
      ]
    },
    {
      "cell_type": "code",
      "execution_count": 471,
      "metadata": {
        "colab": {
          "base_uri": "https://localhost:8080/"
        },
        "id": "BOsGzJ79keFW",
        "outputId": "2a8c7e55-b2a8-4025-83f1-8ca2fc2308e7"
      },
      "outputs": [
        {
          "output_type": "stream",
          "name": "stdout",
          "text": [
            "FloorLocation\n",
            " 0.0     4121\n",
            " 1.0     3368\n",
            " 2.0     2908\n",
            " 3.0     2819\n",
            " 4.0     2595\n",
            " 5.0     1760\n",
            " 0.5     1585\n",
            " 7.0     1297\n",
            " 6.0     1072\n",
            " 8.0      505\n",
            " 10.0     428\n",
            " 9.0      344\n",
            " 11.0     240\n",
            "-1.0      216\n",
            " 12.0     216\n",
            " 15.0     191\n",
            " 13.0     176\n",
            " 14.0     175\n",
            "-2.0      136\n",
            " 16.0     133\n",
            " 21.0     107\n",
            " 35.0     101\n",
            " 17.0      81\n",
            " 20.0      76\n",
            " 19.0      67\n",
            " 18.0      65\n",
            "-3.0       48\n",
            " 22.0      42\n",
            " 26.0      38\n",
            " 23.0      37\n",
            "-0.5       29\n",
            " 25.0      28\n",
            " 24.0      28\n",
            " 30.0      22\n",
            " 28.0      20\n",
            " 27.0      19\n",
            " 29.0       9\n",
            " 33.0       6\n",
            " 32.0       3\n",
            " 31.0       3\n",
            " 40.0       3\n",
            " 34.0       2\n",
            " 38.0       1\n",
            " 36.0       1\n",
            "Name: count, dtype: int64\n",
            "Null: 34\n"
          ]
        }
      ],
      "source": [
        "print(df[\"FloorLocation\"].value_counts())\n",
        "print(\"Null:\", df[\"FloorLocation\"].isnull().sum())"
      ]
    },
    {
      "cell_type": "code",
      "execution_count": 472,
      "metadata": {
        "id": "yLBJGhNyolzV"
      },
      "outputs": [],
      "source": [
        "df['FloorLocation'] = df['FloorLocation'].fillna(0)"
      ]
    },
    {
      "cell_type": "code",
      "execution_count": 473,
      "metadata": {
        "id": "5JtcgrszoWdN"
      },
      "outputs": [],
      "source": [
        "individual_floors = [0.0, 1.0, 2.0, 3.0, 4.0, 5.0, 0.5, 6.0, 7.0, 8.0]\n",
        "low_high_group = [9.0, 10.0, 11.0, 12.0, -1.0]\n",
        "mid_high_group = [13.0, 14.0, 15.0, 16.0, 17.0, 18.0, 19.0, 20.0, 21.0, -2.0, 35.0]\n",
        "very_high_or_low_group = [22.0, 23.0, 24.0, 25.0, 26.0, 27.0, 28.0, 29.0,\n",
        "                          30.0, 31.0, 32.0, 33.0, 34.0, 36.0, 38.0, 40.0, -3.0, -0.5]\n",
        "\n",
        "floor_map = {}\n",
        "\n",
        "for val in individual_floors:\n",
        "    floor_map[val] = val\n",
        "for val in low_high_group:\n",
        "    floor_map[val] = 9\n",
        "for val in mid_high_group:\n",
        "    floor_map[val] = 10\n",
        "for val in very_high_or_low_group:\n",
        "    floor_map[val] = 11\n",
        "\n",
        "df['FloorLocation'] = df['FloorLocation'].map(floor_map)"
      ]
    },
    {
      "cell_type": "code",
      "execution_count": 474,
      "metadata": {
        "colab": {
          "base_uri": "https://localhost:8080/"
        },
        "id": "pHDkml00lAT-",
        "outputId": "cb226ecf-0c0a-4e6c-88a3-ee9aa0df3953"
      },
      "outputs": [
        {
          "output_type": "stream",
          "name": "stdout",
          "text": [
            "Swap\n",
            "Yok    17304\n",
            "Var     3535\n",
            "Name: count, dtype: int64\n",
            "Null: 4316\n"
          ]
        }
      ],
      "source": [
        "print(df[\"Swap\"].value_counts())\n",
        "print(\"Null:\", df[\"Swap\"].isnull().sum())"
      ]
    },
    {
      "cell_type": "code",
      "execution_count": 475,
      "metadata": {
        "id": "FmDMA1xQn3xd"
      },
      "outputs": [],
      "source": [
        "df[\"Swap\"] = df[\"Swap\"].map({\"Yok\": 0,\n",
        "                             \"Var\": 1})\n",
        "df[\"Swap\"] = df[\"Swap\"].fillna(0)"
      ]
    },
    {
      "cell_type": "code",
      "execution_count": 476,
      "metadata": {
        "id": "g43fnlSssqdd"
      },
      "outputs": [],
      "source": [
        "import ast\n",
        "\n",
        "def extract_city_district_from_str(address_str):\n",
        "    try:\n",
        "        address_list = ast.literal_eval(address_str)  # convert string to list\n",
        "        city = address_list[2].split()[0]\n",
        "        district = address_list[3].split()[0]\n",
        "        return pd.Series([city, district])\n",
        "    except:\n",
        "        return pd.Series([None, None])\n",
        "\n",
        "df[['city', 'region']] = df['address'].apply(extract_city_district_from_str)"
      ]
    },
    {
      "cell_type": "code",
      "execution_count": 477,
      "metadata": {
        "colab": {
          "base_uri": "https://localhost:8080/"
        },
        "id": "OnIYfswSttG1",
        "outputId": "df255e16-f276-4b2c-b421-042dba3b71b2"
      },
      "outputs": [
        {
          "output_type": "execute_result",
          "data": {
            "text/plain": [
              "array(['Adalar', 'Arnavutköy', 'Ataşehir', 'Avcılar', 'Bağcılar',\n",
              "       'Bahçelievler', 'Bakırköy', 'Başakşehir', 'Bayrampaşa', 'Beşiktaş',\n",
              "       'Beykoz', 'Beylikdüzü', 'Beyoğlu', 'Şişli', 'Büyükçekmece',\n",
              "       'Çatalca', 'Çekmeköy', 'Esenler', 'Esenyurt', 'Eyüpsultan',\n",
              "       'Fatih', 'Gaziosmanpaşa', 'Güngören', 'Kadıköy', 'Kağıthane',\n",
              "       'Kartal', 'Küçükçekmece', 'Maltepe', 'Pendik', 'Sancaktepe',\n",
              "       'Ümraniye', 'Sarıyer', 'Şile', 'Silivri', 'Sultanbeyli',\n",
              "       'Sultangazi', 'Tuzla', 'Üsküdar', 'Zeytinburnu'], dtype=object)"
            ]
          },
          "metadata": {},
          "execution_count": 477
        }
      ],
      "source": [
        "df[\"region\"].unique()"
      ]
    },
    {
      "cell_type": "markdown",
      "metadata": {
        "id": "Y29rHWELuKF1"
      },
      "source": [
        "We created this feature but we already have the district column, so this becomes unnecessary."
      ]
    },
    {
      "cell_type": "code",
      "execution_count": 478,
      "metadata": {
        "colab": {
          "base_uri": "https://localhost:8080/"
        },
        "id": "MBNjyEHFuTgV",
        "outputId": "392558ce-eb57-4c91-d8fd-3a8e8815def8"
      },
      "outputs": [
        {
          "output_type": "execute_result",
          "data": {
            "text/plain": [
              "array(['İstanbul'], dtype=object)"
            ]
          },
          "metadata": {},
          "execution_count": 478
        }
      ],
      "source": [
        "df[\"city\"].unique()"
      ]
    },
    {
      "cell_type": "markdown",
      "metadata": {
        "id": "rK-iz5KGuXj1"
      },
      "source": [
        "This is also unnecessary here because the only city we have is already Istanbul. So we will also drop this columns to reduce the cost but this method will come very handy when we will deal with more complex datasets."
      ]
    },
    {
      "cell_type": "code",
      "execution_count": 479,
      "metadata": {
        "id": "tDWDsle5up4F"
      },
      "outputs": [],
      "source": [
        "df = df.drop(columns='address')\n",
        "df = df.drop(columns=\"city\")\n",
        "df = df.drop(columns=\"region\")"
      ]
    },
    {
      "cell_type": "markdown",
      "metadata": {
        "id": "FMW3o_TpK7cA"
      },
      "source": [
        "### ✅ **2. Create the Model**\n",
        "\n",
        "- **Create a baseline model**:\n",
        "  - For regression problems: **DecisionTreeRegressor**  \n",
        "\n",
        "- After training the model, **calculate performance metrics** such as MSE, R² (regression).  \n",
        "- **Interpret the results:** How well did the model perform? Does it need improvement?\n",
        "\n",
        "---"
      ]
    },
    {
      "cell_type": "code",
      "execution_count": 480,
      "metadata": {
        "id": "46QpQwsGuL3c"
      },
      "outputs": [],
      "source": [
        "from sklearn.tree import DecisionTreeRegressor\n",
        "from sklearn.metrics import mean_squared_error, r2_score\n",
        "from sklearn.model_selection import train_test_split\n",
        "\n",
        "X = df.drop(columns=\"price\")\n",
        "y = df[\"price\"]\n",
        "\n",
        "X_train, X_test, y_train, y_test = train_test_split(X, y, test_size=0.3, random_state=42)"
      ]
    },
    {
      "cell_type": "code",
      "execution_count": 481,
      "metadata": {
        "id": "lyjjoMqEueEH"
      },
      "outputs": [],
      "source": [
        "model = DecisionTreeRegressor(random_state=42)"
      ]
    },
    {
      "cell_type": "code",
      "execution_count": 482,
      "metadata": {
        "colab": {
          "base_uri": "https://localhost:8080/",
          "height": 80
        },
        "id": "Sj32vzLzuZOK",
        "outputId": "7cb89c3a-2516-469d-ea34-a2d78239515a"
      },
      "outputs": [
        {
          "output_type": "execute_result",
          "data": {
            "text/plain": [
              "DecisionTreeRegressor(random_state=42)"
            ],
            "text/html": [
              "<style>#sk-container-id-2 {\n",
              "  /* Definition of color scheme common for light and dark mode */\n",
              "  --sklearn-color-text: #000;\n",
              "  --sklearn-color-text-muted: #666;\n",
              "  --sklearn-color-line: gray;\n",
              "  /* Definition of color scheme for unfitted estimators */\n",
              "  --sklearn-color-unfitted-level-0: #fff5e6;\n",
              "  --sklearn-color-unfitted-level-1: #f6e4d2;\n",
              "  --sklearn-color-unfitted-level-2: #ffe0b3;\n",
              "  --sklearn-color-unfitted-level-3: chocolate;\n",
              "  /* Definition of color scheme for fitted estimators */\n",
              "  --sklearn-color-fitted-level-0: #f0f8ff;\n",
              "  --sklearn-color-fitted-level-1: #d4ebff;\n",
              "  --sklearn-color-fitted-level-2: #b3dbfd;\n",
              "  --sklearn-color-fitted-level-3: cornflowerblue;\n",
              "\n",
              "  /* Specific color for light theme */\n",
              "  --sklearn-color-text-on-default-background: var(--sg-text-color, var(--theme-code-foreground, var(--jp-content-font-color1, black)));\n",
              "  --sklearn-color-background: var(--sg-background-color, var(--theme-background, var(--jp-layout-color0, white)));\n",
              "  --sklearn-color-border-box: var(--sg-text-color, var(--theme-code-foreground, var(--jp-content-font-color1, black)));\n",
              "  --sklearn-color-icon: #696969;\n",
              "\n",
              "  @media (prefers-color-scheme: dark) {\n",
              "    /* Redefinition of color scheme for dark theme */\n",
              "    --sklearn-color-text-on-default-background: var(--sg-text-color, var(--theme-code-foreground, var(--jp-content-font-color1, white)));\n",
              "    --sklearn-color-background: var(--sg-background-color, var(--theme-background, var(--jp-layout-color0, #111)));\n",
              "    --sklearn-color-border-box: var(--sg-text-color, var(--theme-code-foreground, var(--jp-content-font-color1, white)));\n",
              "    --sklearn-color-icon: #878787;\n",
              "  }\n",
              "}\n",
              "\n",
              "#sk-container-id-2 {\n",
              "  color: var(--sklearn-color-text);\n",
              "}\n",
              "\n",
              "#sk-container-id-2 pre {\n",
              "  padding: 0;\n",
              "}\n",
              "\n",
              "#sk-container-id-2 input.sk-hidden--visually {\n",
              "  border: 0;\n",
              "  clip: rect(1px 1px 1px 1px);\n",
              "  clip: rect(1px, 1px, 1px, 1px);\n",
              "  height: 1px;\n",
              "  margin: -1px;\n",
              "  overflow: hidden;\n",
              "  padding: 0;\n",
              "  position: absolute;\n",
              "  width: 1px;\n",
              "}\n",
              "\n",
              "#sk-container-id-2 div.sk-dashed-wrapped {\n",
              "  border: 1px dashed var(--sklearn-color-line);\n",
              "  margin: 0 0.4em 0.5em 0.4em;\n",
              "  box-sizing: border-box;\n",
              "  padding-bottom: 0.4em;\n",
              "  background-color: var(--sklearn-color-background);\n",
              "}\n",
              "\n",
              "#sk-container-id-2 div.sk-container {\n",
              "  /* jupyter's `normalize.less` sets `[hidden] { display: none; }`\n",
              "     but bootstrap.min.css set `[hidden] { display: none !important; }`\n",
              "     so we also need the `!important` here to be able to override the\n",
              "     default hidden behavior on the sphinx rendered scikit-learn.org.\n",
              "     See: https://github.com/scikit-learn/scikit-learn/issues/21755 */\n",
              "  display: inline-block !important;\n",
              "  position: relative;\n",
              "}\n",
              "\n",
              "#sk-container-id-2 div.sk-text-repr-fallback {\n",
              "  display: none;\n",
              "}\n",
              "\n",
              "div.sk-parallel-item,\n",
              "div.sk-serial,\n",
              "div.sk-item {\n",
              "  /* draw centered vertical line to link estimators */\n",
              "  background-image: linear-gradient(var(--sklearn-color-text-on-default-background), var(--sklearn-color-text-on-default-background));\n",
              "  background-size: 2px 100%;\n",
              "  background-repeat: no-repeat;\n",
              "  background-position: center center;\n",
              "}\n",
              "\n",
              "/* Parallel-specific style estimator block */\n",
              "\n",
              "#sk-container-id-2 div.sk-parallel-item::after {\n",
              "  content: \"\";\n",
              "  width: 100%;\n",
              "  border-bottom: 2px solid var(--sklearn-color-text-on-default-background);\n",
              "  flex-grow: 1;\n",
              "}\n",
              "\n",
              "#sk-container-id-2 div.sk-parallel {\n",
              "  display: flex;\n",
              "  align-items: stretch;\n",
              "  justify-content: center;\n",
              "  background-color: var(--sklearn-color-background);\n",
              "  position: relative;\n",
              "}\n",
              "\n",
              "#sk-container-id-2 div.sk-parallel-item {\n",
              "  display: flex;\n",
              "  flex-direction: column;\n",
              "}\n",
              "\n",
              "#sk-container-id-2 div.sk-parallel-item:first-child::after {\n",
              "  align-self: flex-end;\n",
              "  width: 50%;\n",
              "}\n",
              "\n",
              "#sk-container-id-2 div.sk-parallel-item:last-child::after {\n",
              "  align-self: flex-start;\n",
              "  width: 50%;\n",
              "}\n",
              "\n",
              "#sk-container-id-2 div.sk-parallel-item:only-child::after {\n",
              "  width: 0;\n",
              "}\n",
              "\n",
              "/* Serial-specific style estimator block */\n",
              "\n",
              "#sk-container-id-2 div.sk-serial {\n",
              "  display: flex;\n",
              "  flex-direction: column;\n",
              "  align-items: center;\n",
              "  background-color: var(--sklearn-color-background);\n",
              "  padding-right: 1em;\n",
              "  padding-left: 1em;\n",
              "}\n",
              "\n",
              "\n",
              "/* Toggleable style: style used for estimator/Pipeline/ColumnTransformer box that is\n",
              "clickable and can be expanded/collapsed.\n",
              "- Pipeline and ColumnTransformer use this feature and define the default style\n",
              "- Estimators will overwrite some part of the style using the `sk-estimator` class\n",
              "*/\n",
              "\n",
              "/* Pipeline and ColumnTransformer style (default) */\n",
              "\n",
              "#sk-container-id-2 div.sk-toggleable {\n",
              "  /* Default theme specific background. It is overwritten whether we have a\n",
              "  specific estimator or a Pipeline/ColumnTransformer */\n",
              "  background-color: var(--sklearn-color-background);\n",
              "}\n",
              "\n",
              "/* Toggleable label */\n",
              "#sk-container-id-2 label.sk-toggleable__label {\n",
              "  cursor: pointer;\n",
              "  display: flex;\n",
              "  width: 100%;\n",
              "  margin-bottom: 0;\n",
              "  padding: 0.5em;\n",
              "  box-sizing: border-box;\n",
              "  text-align: center;\n",
              "  align-items: start;\n",
              "  justify-content: space-between;\n",
              "  gap: 0.5em;\n",
              "}\n",
              "\n",
              "#sk-container-id-2 label.sk-toggleable__label .caption {\n",
              "  font-size: 0.6rem;\n",
              "  font-weight: lighter;\n",
              "  color: var(--sklearn-color-text-muted);\n",
              "}\n",
              "\n",
              "#sk-container-id-2 label.sk-toggleable__label-arrow:before {\n",
              "  /* Arrow on the left of the label */\n",
              "  content: \"▸\";\n",
              "  float: left;\n",
              "  margin-right: 0.25em;\n",
              "  color: var(--sklearn-color-icon);\n",
              "}\n",
              "\n",
              "#sk-container-id-2 label.sk-toggleable__label-arrow:hover:before {\n",
              "  color: var(--sklearn-color-text);\n",
              "}\n",
              "\n",
              "/* Toggleable content - dropdown */\n",
              "\n",
              "#sk-container-id-2 div.sk-toggleable__content {\n",
              "  max-height: 0;\n",
              "  max-width: 0;\n",
              "  overflow: hidden;\n",
              "  text-align: left;\n",
              "  /* unfitted */\n",
              "  background-color: var(--sklearn-color-unfitted-level-0);\n",
              "}\n",
              "\n",
              "#sk-container-id-2 div.sk-toggleable__content.fitted {\n",
              "  /* fitted */\n",
              "  background-color: var(--sklearn-color-fitted-level-0);\n",
              "}\n",
              "\n",
              "#sk-container-id-2 div.sk-toggleable__content pre {\n",
              "  margin: 0.2em;\n",
              "  border-radius: 0.25em;\n",
              "  color: var(--sklearn-color-text);\n",
              "  /* unfitted */\n",
              "  background-color: var(--sklearn-color-unfitted-level-0);\n",
              "}\n",
              "\n",
              "#sk-container-id-2 div.sk-toggleable__content.fitted pre {\n",
              "  /* unfitted */\n",
              "  background-color: var(--sklearn-color-fitted-level-0);\n",
              "}\n",
              "\n",
              "#sk-container-id-2 input.sk-toggleable__control:checked~div.sk-toggleable__content {\n",
              "  /* Expand drop-down */\n",
              "  max-height: 200px;\n",
              "  max-width: 100%;\n",
              "  overflow: auto;\n",
              "}\n",
              "\n",
              "#sk-container-id-2 input.sk-toggleable__control:checked~label.sk-toggleable__label-arrow:before {\n",
              "  content: \"▾\";\n",
              "}\n",
              "\n",
              "/* Pipeline/ColumnTransformer-specific style */\n",
              "\n",
              "#sk-container-id-2 div.sk-label input.sk-toggleable__control:checked~label.sk-toggleable__label {\n",
              "  color: var(--sklearn-color-text);\n",
              "  background-color: var(--sklearn-color-unfitted-level-2);\n",
              "}\n",
              "\n",
              "#sk-container-id-2 div.sk-label.fitted input.sk-toggleable__control:checked~label.sk-toggleable__label {\n",
              "  background-color: var(--sklearn-color-fitted-level-2);\n",
              "}\n",
              "\n",
              "/* Estimator-specific style */\n",
              "\n",
              "/* Colorize estimator box */\n",
              "#sk-container-id-2 div.sk-estimator input.sk-toggleable__control:checked~label.sk-toggleable__label {\n",
              "  /* unfitted */\n",
              "  background-color: var(--sklearn-color-unfitted-level-2);\n",
              "}\n",
              "\n",
              "#sk-container-id-2 div.sk-estimator.fitted input.sk-toggleable__control:checked~label.sk-toggleable__label {\n",
              "  /* fitted */\n",
              "  background-color: var(--sklearn-color-fitted-level-2);\n",
              "}\n",
              "\n",
              "#sk-container-id-2 div.sk-label label.sk-toggleable__label,\n",
              "#sk-container-id-2 div.sk-label label {\n",
              "  /* The background is the default theme color */\n",
              "  color: var(--sklearn-color-text-on-default-background);\n",
              "}\n",
              "\n",
              "/* On hover, darken the color of the background */\n",
              "#sk-container-id-2 div.sk-label:hover label.sk-toggleable__label {\n",
              "  color: var(--sklearn-color-text);\n",
              "  background-color: var(--sklearn-color-unfitted-level-2);\n",
              "}\n",
              "\n",
              "/* Label box, darken color on hover, fitted */\n",
              "#sk-container-id-2 div.sk-label.fitted:hover label.sk-toggleable__label.fitted {\n",
              "  color: var(--sklearn-color-text);\n",
              "  background-color: var(--sklearn-color-fitted-level-2);\n",
              "}\n",
              "\n",
              "/* Estimator label */\n",
              "\n",
              "#sk-container-id-2 div.sk-label label {\n",
              "  font-family: monospace;\n",
              "  font-weight: bold;\n",
              "  display: inline-block;\n",
              "  line-height: 1.2em;\n",
              "}\n",
              "\n",
              "#sk-container-id-2 div.sk-label-container {\n",
              "  text-align: center;\n",
              "}\n",
              "\n",
              "/* Estimator-specific */\n",
              "#sk-container-id-2 div.sk-estimator {\n",
              "  font-family: monospace;\n",
              "  border: 1px dotted var(--sklearn-color-border-box);\n",
              "  border-radius: 0.25em;\n",
              "  box-sizing: border-box;\n",
              "  margin-bottom: 0.5em;\n",
              "  /* unfitted */\n",
              "  background-color: var(--sklearn-color-unfitted-level-0);\n",
              "}\n",
              "\n",
              "#sk-container-id-2 div.sk-estimator.fitted {\n",
              "  /* fitted */\n",
              "  background-color: var(--sklearn-color-fitted-level-0);\n",
              "}\n",
              "\n",
              "/* on hover */\n",
              "#sk-container-id-2 div.sk-estimator:hover {\n",
              "  /* unfitted */\n",
              "  background-color: var(--sklearn-color-unfitted-level-2);\n",
              "}\n",
              "\n",
              "#sk-container-id-2 div.sk-estimator.fitted:hover {\n",
              "  /* fitted */\n",
              "  background-color: var(--sklearn-color-fitted-level-2);\n",
              "}\n",
              "\n",
              "/* Specification for estimator info (e.g. \"i\" and \"?\") */\n",
              "\n",
              "/* Common style for \"i\" and \"?\" */\n",
              "\n",
              ".sk-estimator-doc-link,\n",
              "a:link.sk-estimator-doc-link,\n",
              "a:visited.sk-estimator-doc-link {\n",
              "  float: right;\n",
              "  font-size: smaller;\n",
              "  line-height: 1em;\n",
              "  font-family: monospace;\n",
              "  background-color: var(--sklearn-color-background);\n",
              "  border-radius: 1em;\n",
              "  height: 1em;\n",
              "  width: 1em;\n",
              "  text-decoration: none !important;\n",
              "  margin-left: 0.5em;\n",
              "  text-align: center;\n",
              "  /* unfitted */\n",
              "  border: var(--sklearn-color-unfitted-level-1) 1pt solid;\n",
              "  color: var(--sklearn-color-unfitted-level-1);\n",
              "}\n",
              "\n",
              ".sk-estimator-doc-link.fitted,\n",
              "a:link.sk-estimator-doc-link.fitted,\n",
              "a:visited.sk-estimator-doc-link.fitted {\n",
              "  /* fitted */\n",
              "  border: var(--sklearn-color-fitted-level-1) 1pt solid;\n",
              "  color: var(--sklearn-color-fitted-level-1);\n",
              "}\n",
              "\n",
              "/* On hover */\n",
              "div.sk-estimator:hover .sk-estimator-doc-link:hover,\n",
              ".sk-estimator-doc-link:hover,\n",
              "div.sk-label-container:hover .sk-estimator-doc-link:hover,\n",
              ".sk-estimator-doc-link:hover {\n",
              "  /* unfitted */\n",
              "  background-color: var(--sklearn-color-unfitted-level-3);\n",
              "  color: var(--sklearn-color-background);\n",
              "  text-decoration: none;\n",
              "}\n",
              "\n",
              "div.sk-estimator.fitted:hover .sk-estimator-doc-link.fitted:hover,\n",
              ".sk-estimator-doc-link.fitted:hover,\n",
              "div.sk-label-container:hover .sk-estimator-doc-link.fitted:hover,\n",
              ".sk-estimator-doc-link.fitted:hover {\n",
              "  /* fitted */\n",
              "  background-color: var(--sklearn-color-fitted-level-3);\n",
              "  color: var(--sklearn-color-background);\n",
              "  text-decoration: none;\n",
              "}\n",
              "\n",
              "/* Span, style for the box shown on hovering the info icon */\n",
              ".sk-estimator-doc-link span {\n",
              "  display: none;\n",
              "  z-index: 9999;\n",
              "  position: relative;\n",
              "  font-weight: normal;\n",
              "  right: .2ex;\n",
              "  padding: .5ex;\n",
              "  margin: .5ex;\n",
              "  width: min-content;\n",
              "  min-width: 20ex;\n",
              "  max-width: 50ex;\n",
              "  color: var(--sklearn-color-text);\n",
              "  box-shadow: 2pt 2pt 4pt #999;\n",
              "  /* unfitted */\n",
              "  background: var(--sklearn-color-unfitted-level-0);\n",
              "  border: .5pt solid var(--sklearn-color-unfitted-level-3);\n",
              "}\n",
              "\n",
              ".sk-estimator-doc-link.fitted span {\n",
              "  /* fitted */\n",
              "  background: var(--sklearn-color-fitted-level-0);\n",
              "  border: var(--sklearn-color-fitted-level-3);\n",
              "}\n",
              "\n",
              ".sk-estimator-doc-link:hover span {\n",
              "  display: block;\n",
              "}\n",
              "\n",
              "/* \"?\"-specific style due to the `<a>` HTML tag */\n",
              "\n",
              "#sk-container-id-2 a.estimator_doc_link {\n",
              "  float: right;\n",
              "  font-size: 1rem;\n",
              "  line-height: 1em;\n",
              "  font-family: monospace;\n",
              "  background-color: var(--sklearn-color-background);\n",
              "  border-radius: 1rem;\n",
              "  height: 1rem;\n",
              "  width: 1rem;\n",
              "  text-decoration: none;\n",
              "  /* unfitted */\n",
              "  color: var(--sklearn-color-unfitted-level-1);\n",
              "  border: var(--sklearn-color-unfitted-level-1) 1pt solid;\n",
              "}\n",
              "\n",
              "#sk-container-id-2 a.estimator_doc_link.fitted {\n",
              "  /* fitted */\n",
              "  border: var(--sklearn-color-fitted-level-1) 1pt solid;\n",
              "  color: var(--sklearn-color-fitted-level-1);\n",
              "}\n",
              "\n",
              "/* On hover */\n",
              "#sk-container-id-2 a.estimator_doc_link:hover {\n",
              "  /* unfitted */\n",
              "  background-color: var(--sklearn-color-unfitted-level-3);\n",
              "  color: var(--sklearn-color-background);\n",
              "  text-decoration: none;\n",
              "}\n",
              "\n",
              "#sk-container-id-2 a.estimator_doc_link.fitted:hover {\n",
              "  /* fitted */\n",
              "  background-color: var(--sklearn-color-fitted-level-3);\n",
              "}\n",
              "</style><div id=\"sk-container-id-2\" class=\"sk-top-container\"><div class=\"sk-text-repr-fallback\"><pre>DecisionTreeRegressor(random_state=42)</pre><b>In a Jupyter environment, please rerun this cell to show the HTML representation or trust the notebook. <br />On GitHub, the HTML representation is unable to render, please try loading this page with nbviewer.org.</b></div><div class=\"sk-container\" hidden><div class=\"sk-item\"><div class=\"sk-estimator fitted sk-toggleable\"><input class=\"sk-toggleable__control sk-hidden--visually\" id=\"sk-estimator-id-2\" type=\"checkbox\" checked><label for=\"sk-estimator-id-2\" class=\"sk-toggleable__label fitted sk-toggleable__label-arrow\"><div><div>DecisionTreeRegressor</div></div><div><a class=\"sk-estimator-doc-link fitted\" rel=\"noreferrer\" target=\"_blank\" href=\"https://scikit-learn.org/1.6/modules/generated/sklearn.tree.DecisionTreeRegressor.html\">?<span>Documentation for DecisionTreeRegressor</span></a><span class=\"sk-estimator-doc-link fitted\">i<span>Fitted</span></span></div></label><div class=\"sk-toggleable__content fitted\"><pre>DecisionTreeRegressor(random_state=42)</pre></div> </div></div></div></div>"
            ]
          },
          "metadata": {},
          "execution_count": 482
        }
      ],
      "source": [
        "model.fit(X_train, y_train)"
      ]
    },
    {
      "cell_type": "code",
      "execution_count": 483,
      "metadata": {
        "colab": {
          "base_uri": "https://localhost:8080/"
        },
        "id": "3_5qmmPnumry",
        "outputId": "824d4809-9c76-4e6b-e18e-7b0dd5d82a89"
      },
      "outputs": [
        {
          "output_type": "stream",
          "name": "stdout",
          "text": [
            "RMSE: 0.6893072803754192\n",
            "R²: 0.580245159225975\n"
          ]
        }
      ],
      "source": [
        "y_pred = model.predict(X_test)\n",
        "\n",
        "mse = mean_squared_error(y_test, y_pred)\n",
        "r2 = r2_score(y_test, y_pred)\n",
        "\n",
        "print(f\"RMSE: {np.sqrt(mse)}\")\n",
        "print(f\"R²: {r2}\")"
      ]
    },
    {
      "cell_type": "markdown",
      "source": [
        "We have a good amount of MSE and R-squared for the beginning. By doing some more detailed data preprocessing we can get a higher R-squared and lower MSE level. For now, let's try other models and do hyperparameter optimization."
      ],
      "metadata": {
        "id": "GALh07-Sqmnp"
      }
    },
    {
      "cell_type": "markdown",
      "metadata": {
        "id": "HSe_T-YrK9pn"
      },
      "source": [
        "### ✅ **3. Hyperparameter Optimization**\n",
        "\n",
        "- Use **GridSearchCV or RandomizedSearchCV** to identify the **best hyperparameters** for improving your model's performance.  \n",
        "- **Test and compare the results**:\n",
        "  - How did MSE, R² (regression) change after hyperparameter optimization?  \n",
        "- **Interpret the results:** Has the model's performance improved?\n",
        "\n",
        "---"
      ]
    },
    {
      "cell_type": "code",
      "execution_count": 484,
      "metadata": {
        "colab": {
          "base_uri": "https://localhost:8080/"
        },
        "id": "JfrnoWryK_UO",
        "outputId": "25316cf4-407e-4c02-d8c7-6beb577a6709"
      },
      "outputs": [
        {
          "output_type": "stream",
          "name": "stdout",
          "text": [
            "Best Params: {'max_depth': None, 'min_samples_leaf': 5, 'min_samples_split': 2}\n",
            "Best Model - RMSE: 0.5937, R²: 0.6886\n"
          ]
        }
      ],
      "source": [
        "from sklearn.model_selection import GridSearchCV\n",
        "\n",
        "param_grid = {\n",
        "    \"max_depth\": [3, 5, 10, None],\n",
        "    \"min_samples_split\": [2, 5, 10],\n",
        "    \"min_samples_leaf\": [1, 2, 5]\n",
        "}\n",
        "\n",
        "grid_search = GridSearchCV(DecisionTreeRegressor(random_state=42), param_grid, cv=5, scoring=\"neg_mean_squared_error\")\n",
        "grid_search.fit(X_train, y_train)\n",
        "\n",
        "best_params = grid_search.best_params_\n",
        "best_model = grid_search.best_estimator_\n",
        "\n",
        "print(\"Best Params:\", best_params)\n",
        "\n",
        "y_pred_best = best_model.predict(X_test)\n",
        "\n",
        "mse_best = mean_squared_error(y_test, y_pred_best)\n",
        "rmse = np.sqrt(mse_best)\n",
        "r2_best = r2_score(y_test, y_pred_best)\n",
        "\n",
        "print(f\"Best Model - RMSE: {rmse:.4f}, R²: {r2_best:.4f}\")"
      ]
    },
    {
      "cell_type": "markdown",
      "source": [
        "Our scores are getting better even only when we do a Grid Search Cross Validation."
      ],
      "metadata": {
        "id": "rRzFruqxq84J"
      }
    },
    {
      "cell_type": "markdown",
      "metadata": {
        "id": "FXqio1vFK_iV"
      },
      "source": [
        "### ✅ **4. Feature Engineering**\n",
        "\n",
        "- Create **new features** or **remove unnecessary variables** to help the model learn better.  \n",
        "- **For example**:\n",
        "  - **Log transformation, square root, adding interaction features**  \n",
        "  - **Feature selection to remove irrelevant variables**  \n",
        "- **Train and test the new model.**  \n",
        "- **Compare the results with previous models:**\n",
        "  - Did the model perform better after feature engineering?\n",
        "\n",
        "---"
      ]
    },
    {
      "cell_type": "markdown",
      "metadata": {
        "id": "4wrgR_05wtSm"
      },
      "source": [
        "We already did the feature engineering part above, now let's check for feature importances."
      ]
    },
    {
      "cell_type": "code",
      "execution_count": 485,
      "metadata": {
        "colab": {
          "base_uri": "https://localhost:8080/",
          "height": 487
        },
        "id": "zXO3JWWELEA6",
        "outputId": "3406d0d2-ac19-4f47-b25c-45d0854320b7"
      },
      "outputs": [
        {
          "output_type": "display_data",
          "data": {
            "text/plain": [
              "<Figure size 1000x500 with 1 Axes>"
            ],
            "image/png": "[encoded data removed]"
          },
          "metadata": {}
        }
      ],
      "source": [
        "importances = best_model.feature_importances_\n",
        "feature_names = X_train.columns\n",
        "\n",
        "plt.figure(figsize=(10,5))\n",
        "plt.barh(feature_names, importances)\n",
        "plt.xlabel(\"Feature Importance\")\n",
        "plt.ylabel(\"Features\")\n",
        "plt.title(\"Decision Tree Feature Importance\")\n",
        "plt.show()"
      ]
    },
    {
      "cell_type": "markdown",
      "source": [
        "Let's select the important features and train new models."
      ],
      "metadata": {
        "id": "iIrfeoK-rI7x"
      }
    },
    {
      "cell_type": "code",
      "execution_count": 486,
      "metadata": {
        "colab": {
          "base_uri": "https://localhost:8080/"
        },
        "id": "LEiC0u87wXaj",
        "outputId": "c71cdd2d-a092-4a15-e106-eced9687fd19"
      },
      "outputs": [
        {
          "output_type": "stream",
          "name": "stdout",
          "text": [
            "Model with Important Features - RMSE: 0.6685, R²: 0.6003\n"
          ]
        }
      ],
      "source": [
        "important_features = [\"HeatingType\", \"FloorLocation\", \"NumberOfRooms\", \"NetSquareMeters\", \"NumberOfBathrooms\", \"NumberFloorsofBuilding\", \"BuildingAge\", \"GrossSquareMeters\", \"district\", \"TitleStatus\", \"MonthUpdated\"]\n",
        "X_selected = X[important_features]\n",
        "\n",
        "X_train_sel, X_test_sel, y_train_sel, y_test_sel = train_test_split(X_selected, y, train_size=0.6, random_state=42)\n",
        "\n",
        "tree_reg_sel = DecisionTreeRegressor(max_depth=5, random_state=42)\n",
        "tree_reg_sel.fit(X_train_sel, y_train_sel)\n",
        "\n",
        "y_pred_sel = tree_reg_sel.predict(X_test_sel)\n",
        "\n",
        "mse_sel = mean_squared_error(y_test_sel, y_pred_sel)\n",
        "rmse = np.sqrt(mse_sel)\n",
        "r2_sel = r2_score(y_test_sel, y_pred_sel)\n",
        "\n",
        "print(f\"Model with Important Features - RMSE: {rmse:.4f}, R²: {r2_sel:.4f}\")"
      ]
    },
    {
      "cell_type": "markdown",
      "metadata": {
        "id": "OGaOGcHJc3wA"
      },
      "source": [
        "### ✅ **5. Trying Stronger Models**\n",
        "\n",
        "- Try **Random Forest or XGBoost**.  \n",
        "- **Run RandomForestRegressor or XGBRegressor on the same dataset.**  \n",
        "- **Compare the results with the Decision Tree model:**\n",
        "  - Do the new models perform better?  \n",
        "  - Has the error rate decreased?\n",
        "\n",
        "---"
      ]
    },
    {
      "cell_type": "code",
      "execution_count": 487,
      "metadata": {
        "colab": {
          "base_uri": "https://localhost:8080/"
        },
        "id": "g0nz9ccdwoDI",
        "outputId": "c439aaac-8316-4e28-d952-2739dae4dcf8"
      },
      "outputs": [
        {
          "output_type": "stream",
          "name": "stdout",
          "text": [
            "Random Forest - RMSE: 0.5393, R²: 0.7399\n"
          ]
        }
      ],
      "source": [
        "from sklearn.ensemble import RandomForestRegressor\n",
        "\n",
        "rf_reg = RandomForestRegressor(n_estimators=100, max_depth=10, random_state=42)\n",
        "rf_reg.fit(X_train_sel, y_train_sel)\n",
        "\n",
        "y_pred_rf = rf_reg.predict(X_test_sel)\n",
        "\n",
        "mse_rf = mean_squared_error(y_test_sel, y_pred_rf)\n",
        "r2_rf = r2_score(y_test_sel, y_pred_rf)\n",
        "\n",
        "print(f\"Random Forest - RMSE: {np.sqrt(mse_rf):.4f}, R²: {r2_rf:.4f}\")"
      ]
    },
    {
      "cell_type": "markdown",
      "source": [
        "Using random forest regression, we had our mse lower and r-squared higher."
      ],
      "metadata": {
        "id": "fomeR4lTtV1x"
      }
    },
    {
      "cell_type": "code",
      "execution_count": 488,
      "metadata": {
        "colab": {
          "base_uri": "https://localhost:8080/"
        },
        "id": "knmxTUvNwzpD",
        "outputId": "6b9fc503-791c-4012-94be-d7c8428ce1a7"
      },
      "outputs": [
        {
          "output_type": "stream",
          "name": "stdout",
          "text": [
            "XGBoost - MSE: 0.2135, R²: 0.8091\n"
          ]
        }
      ],
      "source": [
        "from xgboost import XGBRegressor\n",
        "\n",
        "xgb_reg = XGBRegressor(n_estimators=100, max_depth=6, learning_rate=0.1, random_state=42)\n",
        "xgb_reg.fit(X_train_sel, y_train_sel)\n",
        "\n",
        "y_pred_xgb = xgb_reg.predict(X_test_sel)\n",
        "\n",
        "mse_xgb = mean_squared_error(y_test_sel, y_pred_xgb)\n",
        "r2_xgb = r2_score(y_test_sel, y_pred_xgb)\n",
        "\n",
        "print(f\"XGBoost - MSE: {mse_xgb:.4f}, R²: {r2_xgb:.4f}\")"
      ]
    },
    {
      "cell_type": "markdown",
      "source": [
        "Obviously, selecting important features made an important impact!"
      ],
      "metadata": {
        "id": "0F8asqantfVb"
      }
    },
    {
      "cell_type": "code",
      "execution_count": 490,
      "metadata": {
        "colab": {
          "base_uri": "https://localhost:8080/"
        },
        "id": "37KU9RPaw1s5",
        "outputId": "9d2a7748-cdb0-4a35-b4a3-6257ed3c46c8"
      },
      "outputs": [
        {
          "output_type": "stream",
          "name": "stdout",
          "text": [
            "Grid Search lasted for:  1003.1859076023102\n",
            "Random Forest Best Parameters: {'max_depth': 15, 'min_samples_leaf': 2, 'min_samples_split': 10, 'n_estimators': 300}\n",
            "Random Forest (Optimized) - RMSE: 0.4918, R²: 0.7864\n"
          ]
        }
      ],
      "source": [
        "from sklearn.model_selection import GridSearchCV\n",
        "import time\n",
        "\n",
        "start = time.time()\n",
        "param_grid_rf = {\n",
        "    \"n_estimators\": [200, 300],\n",
        "    \"max_depth\": [10, 15],\n",
        "    \"min_samples_split\": [10, 15],\n",
        "    \"min_samples_leaf\": [2, 4]\n",
        "}\n",
        "\n",
        "grid_search_rf = GridSearchCV(RandomForestRegressor(random_state=42), param_grid_rf, cv=5, scoring=\"neg_mean_squared_error\")\n",
        "grid_search_rf.fit(X_train, y_train)\n",
        "\n",
        "end = time.time()\n",
        "\n",
        "print(\"Grid Search lasted for: \", end-start)\n",
        "print(\"Random Forest Best Parameters:\", grid_search_rf.best_params_)\n",
        "\n",
        "best_rf = grid_search_rf.best_estimator_\n",
        "y_pred_best_rf = best_rf.predict(X_test)\n",
        "\n",
        "mse_best_rf = mean_squared_error(y_test, y_pred_best_rf)\n",
        "rmse = np.sqrt(mse_best_rf)\n",
        "r2_best_rf = r2_score(y_test, y_pred_best_rf)\n",
        "\n",
        "print(f\"Random Forest (Optimized) - RMSE: {rmse:.4f}, R²: {r2_best_rf:.4f}\")"
      ]
    },
    {
      "cell_type": "markdown",
      "metadata": {
        "id": "fe1PaJlCyOcV"
      },
      "source": [
        "### Trying Ensemble Model"
      ]
    },
    {
      "cell_type": "code",
      "execution_count": 491,
      "metadata": {
        "id": "EM94GeW6yN_Z",
        "colab": {
          "base_uri": "https://localhost:8080/"
        },
        "outputId": "b4463651-8d6b-4e17-f4b8-1fb151fa84d8"
      },
      "outputs": [
        {
          "output_type": "stream",
          "name": "stdout",
          "text": [
            "Stacking Model - RMSE: 0.4573331021504953, R²: 0.8169\n"
          ]
        }
      ],
      "source": [
        "from sklearn.ensemble import StackingRegressor, RandomForestRegressor\n",
        "from xgboost import XGBRegressor\n",
        "\n",
        "X_train_new, X_test_new, y_train_new, y_test_new = train_test_split(X[important_features], y, test_size=0.2, random_state=42)\n",
        "\n",
        "stacked_model = StackingRegressor(\n",
        "    estimators=[\n",
        "        (\"rf\", RandomForestRegressor(n_estimators=100, max_depth=10, random_state=42)),\n",
        "        (\"xgb\", XGBRegressor(n_estimators=100, max_depth=6, learning_rate=0.1, random_state=42))\n",
        "    ],\n",
        "    final_estimator=XGBRegressor(n_estimators=50, max_depth=4, learning_rate=0.1, random_state=42)\n",
        ")\n",
        "\n",
        "stacked_model.fit(X_train_new, y_train_new)\n",
        "y_pred_stack = stacked_model.predict(X_test_new)\n",
        "\n",
        "mse_stack = mean_squared_error(y_test_new, y_pred_stack)\n",
        "rmse = np.sqrt(mse_stack)\n",
        "r2_stack = r2_score(y_test_new, y_pred_stack)\n",
        "\n",
        "print(f\"Stacking Model - RMSE: {rmse}, R²: {r2_stack:.4f}\")"
      ]
    },
    {
      "cell_type": "code",
      "execution_count": 493,
      "metadata": {
        "colab": {
          "base_uri": "https://localhost:8080/"
        },
        "id": "2gBxEYw5w86x",
        "outputId": "8df1d16f-aa8d-40a4-d42d-b24188603fc5"
      },
      "outputs": [
        {
          "output_type": "stream",
          "name": "stdout",
          "text": [
            "XGBoost Best Parameters: {'learning_rate': 0.1, 'max_depth': 6, 'n_estimators': 300}\n",
            "XGBoost (Better Optimization) - RMSE: 0.4375, R²: 0.8325\n"
          ]
        }
      ],
      "source": [
        "param_grid_xgb = {\n",
        "    \"n_estimators\": [200, 300],\n",
        "    \"max_depth\": [6, 10],\n",
        "    \"learning_rate\": [0.01, 0.05, 0.1]\n",
        "}\n",
        "\n",
        "grid_search_xgb = GridSearchCV(XGBRegressor(random_state=42), param_grid_xgb, cv=5, scoring=\"neg_mean_squared_error\")\n",
        "grid_search_xgb.fit(X_train_new, y_train_new)\n",
        "\n",
        "print(\"XGBoost Best Parameters:\", grid_search_xgb.best_params_)\n",
        "\n",
        "best_xgb = grid_search_xgb.best_estimator_\n",
        "y_pred_best_xgb = best_xgb.predict(X_test_new)\n",
        "\n",
        "mse_best_xgb = mean_squared_error(y_test_new, y_pred_best_xgb)\n",
        "rmse = np.sqrt(mse_best_xgb)\n",
        "r2_best_xgb = r2_score(y_test_new, y_pred_best_xgb)\n",
        "\n",
        "print(f\"XGBoost (Better Optimization) - RMSE: {rmse:.4f}, R²: {r2_best_xgb:.4f}\")"
      ]
    },
    {
      "cell_type": "markdown",
      "source": [
        "As we can easily see from here, we have increased our R-squared value and decreased our RMSE value, which were nonpositive values at the beginning!"
      ],
      "metadata": {
        "id": "NKZlHdyg53t4"
      }
    }
  ],
  "metadata": {
    "colab": {
      "provenance": []
    },
    "kernelspec": {
      "display_name": "Python 3",
      "name": "python3"
    },
    "language_info": {
      "name": "python"
    }
  },
  "nbformat": 4,
  "nbformat_minor": 0
}